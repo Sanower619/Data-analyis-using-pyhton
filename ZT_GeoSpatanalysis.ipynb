{
 "cells": [
  {
   "cell_type": "code",
   "execution_count": 17,
   "id": "24104a07",
   "metadata": {},
   "outputs": [],
   "source": [
    "import pandas as pd\n",
    "import numpy as np\n",
    "import matplotlib.pyplot as plt\n",
    "import seaborn as sns"
   ]
  },
  {
   "cell_type": "code",
   "execution_count": 18,
   "id": "9d904251",
   "metadata": {},
   "outputs": [
    {
     "data": {
      "text/html": [
       "<div>\n",
       "<style scoped>\n",
       "    .dataframe tbody tr th:only-of-type {\n",
       "        vertical-align: middle;\n",
       "    }\n",
       "\n",
       "    .dataframe tbody tr th {\n",
       "        vertical-align: top;\n",
       "    }\n",
       "\n",
       "    .dataframe thead th {\n",
       "        text-align: right;\n",
       "    }\n",
       "</style>\n",
       "<table border=\"1\" class=\"dataframe\">\n",
       "  <thead>\n",
       "    <tr style=\"text-align: right;\">\n",
       "      <th></th>\n",
       "      <th>url</th>\n",
       "      <th>address</th>\n",
       "      <th>name</th>\n",
       "      <th>online_order</th>\n",
       "      <th>book_table</th>\n",
       "      <th>rate</th>\n",
       "      <th>votes</th>\n",
       "      <th>phone</th>\n",
       "      <th>location</th>\n",
       "      <th>rest_type</th>\n",
       "      <th>dish_liked</th>\n",
       "      <th>cuisines</th>\n",
       "      <th>approx_cost(for two people)</th>\n",
       "      <th>reviews_list</th>\n",
       "      <th>menu_item</th>\n",
       "      <th>listed_in(type)</th>\n",
       "      <th>listed_in(city)</th>\n",
       "    </tr>\n",
       "  </thead>\n",
       "  <tbody>\n",
       "    <tr>\n",
       "      <th>0</th>\n",
       "      <td>https://www.zomato.com/bangalore/jalsa-banasha...</td>\n",
       "      <td>942, 21st Main Road, 2nd Stage, Banashankari, ...</td>\n",
       "      <td>Jalsa</td>\n",
       "      <td>Yes</td>\n",
       "      <td>Yes</td>\n",
       "      <td>4.1/5</td>\n",
       "      <td>775</td>\n",
       "      <td>080 42297555\\r\\n+91 9743772233</td>\n",
       "      <td>Banashankari</td>\n",
       "      <td>Casual Dining</td>\n",
       "      <td>Pasta, Lunch Buffet, Masala Papad, Paneer Laja...</td>\n",
       "      <td>North Indian, Mughlai, Chinese</td>\n",
       "      <td>800</td>\n",
       "      <td>[('Rated 4.0', 'RATED\\n  A beautiful place to ...</td>\n",
       "      <td>[]</td>\n",
       "      <td>Buffet</td>\n",
       "      <td>Banashankari</td>\n",
       "    </tr>\n",
       "    <tr>\n",
       "      <th>1</th>\n",
       "      <td>https://www.zomato.com/bangalore/spice-elephan...</td>\n",
       "      <td>2nd Floor, 80 Feet Road, Near Big Bazaar, 6th ...</td>\n",
       "      <td>Spice Elephant</td>\n",
       "      <td>Yes</td>\n",
       "      <td>No</td>\n",
       "      <td>4.1/5</td>\n",
       "      <td>787</td>\n",
       "      <td>080 41714161</td>\n",
       "      <td>Banashankari</td>\n",
       "      <td>Casual Dining</td>\n",
       "      <td>Momos, Lunch Buffet, Chocolate Nirvana, Thai G...</td>\n",
       "      <td>Chinese, North Indian, Thai</td>\n",
       "      <td>800</td>\n",
       "      <td>[('Rated 4.0', 'RATED\\n  Had been here for din...</td>\n",
       "      <td>[]</td>\n",
       "      <td>Buffet</td>\n",
       "      <td>Banashankari</td>\n",
       "    </tr>\n",
       "    <tr>\n",
       "      <th>2</th>\n",
       "      <td>https://www.zomato.com/SanchurroBangalore?cont...</td>\n",
       "      <td>1112, Next to KIMS Medical College, 17th Cross...</td>\n",
       "      <td>San Churro Cafe</td>\n",
       "      <td>Yes</td>\n",
       "      <td>No</td>\n",
       "      <td>3.8/5</td>\n",
       "      <td>918</td>\n",
       "      <td>+91 9663487993</td>\n",
       "      <td>Banashankari</td>\n",
       "      <td>Cafe, Casual Dining</td>\n",
       "      <td>Churros, Cannelloni, Minestrone Soup, Hot Choc...</td>\n",
       "      <td>Cafe, Mexican, Italian</td>\n",
       "      <td>800</td>\n",
       "      <td>[('Rated 3.0', \"RATED\\n  Ambience is not that ...</td>\n",
       "      <td>[]</td>\n",
       "      <td>Buffet</td>\n",
       "      <td>Banashankari</td>\n",
       "    </tr>\n",
       "    <tr>\n",
       "      <th>3</th>\n",
       "      <td>https://www.zomato.com/bangalore/addhuri-udupi...</td>\n",
       "      <td>1st Floor, Annakuteera, 3rd Stage, Banashankar...</td>\n",
       "      <td>Addhuri Udupi Bhojana</td>\n",
       "      <td>No</td>\n",
       "      <td>No</td>\n",
       "      <td>3.7/5</td>\n",
       "      <td>88</td>\n",
       "      <td>+91 9620009302</td>\n",
       "      <td>Banashankari</td>\n",
       "      <td>Quick Bites</td>\n",
       "      <td>Masala Dosa</td>\n",
       "      <td>South Indian, North Indian</td>\n",
       "      <td>300</td>\n",
       "      <td>[('Rated 4.0', \"RATED\\n  Great food and proper...</td>\n",
       "      <td>[]</td>\n",
       "      <td>Buffet</td>\n",
       "      <td>Banashankari</td>\n",
       "    </tr>\n",
       "    <tr>\n",
       "      <th>4</th>\n",
       "      <td>https://www.zomato.com/bangalore/grand-village...</td>\n",
       "      <td>10, 3rd Floor, Lakshmi Associates, Gandhi Baza...</td>\n",
       "      <td>Grand Village</td>\n",
       "      <td>No</td>\n",
       "      <td>No</td>\n",
       "      <td>3.8/5</td>\n",
       "      <td>166</td>\n",
       "      <td>+91 8026612447\\r\\n+91 9901210005</td>\n",
       "      <td>Basavanagudi</td>\n",
       "      <td>Casual Dining</td>\n",
       "      <td>Panipuri, Gol Gappe</td>\n",
       "      <td>North Indian, Rajasthani</td>\n",
       "      <td>600</td>\n",
       "      <td>[('Rated 4.0', 'RATED\\n  Very good restaurant ...</td>\n",
       "      <td>[]</td>\n",
       "      <td>Buffet</td>\n",
       "      <td>Banashankari</td>\n",
       "    </tr>\n",
       "  </tbody>\n",
       "</table>\n",
       "</div>"
      ],
      "text/plain": [
       "                                                 url  \\\n",
       "0  https://www.zomato.com/bangalore/jalsa-banasha...   \n",
       "1  https://www.zomato.com/bangalore/spice-elephan...   \n",
       "2  https://www.zomato.com/SanchurroBangalore?cont...   \n",
       "3  https://www.zomato.com/bangalore/addhuri-udupi...   \n",
       "4  https://www.zomato.com/bangalore/grand-village...   \n",
       "\n",
       "                                             address                   name  \\\n",
       "0  942, 21st Main Road, 2nd Stage, Banashankari, ...                  Jalsa   \n",
       "1  2nd Floor, 80 Feet Road, Near Big Bazaar, 6th ...         Spice Elephant   \n",
       "2  1112, Next to KIMS Medical College, 17th Cross...        San Churro Cafe   \n",
       "3  1st Floor, Annakuteera, 3rd Stage, Banashankar...  Addhuri Udupi Bhojana   \n",
       "4  10, 3rd Floor, Lakshmi Associates, Gandhi Baza...          Grand Village   \n",
       "\n",
       "  online_order book_table   rate  votes                             phone  \\\n",
       "0          Yes        Yes  4.1/5    775    080 42297555\\r\\n+91 9743772233   \n",
       "1          Yes         No  4.1/5    787                      080 41714161   \n",
       "2          Yes         No  3.8/5    918                    +91 9663487993   \n",
       "3           No         No  3.7/5     88                    +91 9620009302   \n",
       "4           No         No  3.8/5    166  +91 8026612447\\r\\n+91 9901210005   \n",
       "\n",
       "       location            rest_type  \\\n",
       "0  Banashankari        Casual Dining   \n",
       "1  Banashankari        Casual Dining   \n",
       "2  Banashankari  Cafe, Casual Dining   \n",
       "3  Banashankari          Quick Bites   \n",
       "4  Basavanagudi        Casual Dining   \n",
       "\n",
       "                                          dish_liked  \\\n",
       "0  Pasta, Lunch Buffet, Masala Papad, Paneer Laja...   \n",
       "1  Momos, Lunch Buffet, Chocolate Nirvana, Thai G...   \n",
       "2  Churros, Cannelloni, Minestrone Soup, Hot Choc...   \n",
       "3                                        Masala Dosa   \n",
       "4                                Panipuri, Gol Gappe   \n",
       "\n",
       "                         cuisines approx_cost(for two people)  \\\n",
       "0  North Indian, Mughlai, Chinese                         800   \n",
       "1     Chinese, North Indian, Thai                         800   \n",
       "2          Cafe, Mexican, Italian                         800   \n",
       "3      South Indian, North Indian                         300   \n",
       "4        North Indian, Rajasthani                         600   \n",
       "\n",
       "                                        reviews_list menu_item  \\\n",
       "0  [('Rated 4.0', 'RATED\\n  A beautiful place to ...        []   \n",
       "1  [('Rated 4.0', 'RATED\\n  Had been here for din...        []   \n",
       "2  [('Rated 3.0', \"RATED\\n  Ambience is not that ...        []   \n",
       "3  [('Rated 4.0', \"RATED\\n  Great food and proper...        []   \n",
       "4  [('Rated 4.0', 'RATED\\n  Very good restaurant ...        []   \n",
       "\n",
       "  listed_in(type) listed_in(city)  \n",
       "0          Buffet    Banashankari  \n",
       "1          Buffet    Banashankari  \n",
       "2          Buffet    Banashankari  \n",
       "3          Buffet    Banashankari  \n",
       "4          Buffet    Banashankari  "
      ]
     },
     "execution_count": 18,
     "metadata": {},
     "output_type": "execute_result"
    }
   ],
   "source": [
    "df = pd.read_csv('C:/Users/Dell/Desktop/Real world project/Zomato Data Analysis/zomato.csv')\n",
    "df.head()"
   ]
  },
  {
   "cell_type": "code",
   "execution_count": 19,
   "id": "f6e50024",
   "metadata": {},
   "outputs": [
    {
     "data": {
      "text/plain": [
       "Index(['url', 'address', 'name', 'online_order', 'book_table', 'rate', 'votes',\n",
       "       'phone', 'location', 'rest_type', 'dish_liked', 'cuisines',\n",
       "       'approx_cost(for two people)', 'reviews_list', 'menu_item',\n",
       "       'listed_in(type)', 'listed_in(city)'],\n",
       "      dtype='object')"
      ]
     },
     "execution_count": 19,
     "metadata": {},
     "output_type": "execute_result"
    }
   ],
   "source": [
    "df.columns"
   ]
  },
  {
   "cell_type": "code",
   "execution_count": 20,
   "id": "0a1a3c38",
   "metadata": {},
   "outputs": [
    {
     "data": {
      "text/plain": [
       "url                            object\n",
       "address                        object\n",
       "name                           object\n",
       "online_order                   object\n",
       "book_table                     object\n",
       "rate                           object\n",
       "votes                           int64\n",
       "phone                          object\n",
       "location                       object\n",
       "rest_type                      object\n",
       "dish_liked                     object\n",
       "cuisines                       object\n",
       "approx_cost(for two people)    object\n",
       "reviews_list                   object\n",
       "menu_item                      object\n",
       "listed_in(type)                object\n",
       "listed_in(city)                object\n",
       "dtype: object"
      ]
     },
     "execution_count": 20,
     "metadata": {},
     "output_type": "execute_result"
    }
   ],
   "source": [
    "df.dtypes"
   ]
  },
  {
   "cell_type": "code",
   "execution_count": 21,
   "id": "0d216fe1",
   "metadata": {},
   "outputs": [
    {
     "data": {
      "text/plain": [
       "(51717, 17)"
      ]
     },
     "execution_count": 21,
     "metadata": {},
     "output_type": "execute_result"
    }
   ],
   "source": [
    "df.shape"
   ]
  },
  {
   "cell_type": "code",
   "execution_count": 22,
   "id": "9d0f79de",
   "metadata": {},
   "outputs": [
    {
     "data": {
      "text/plain": [
       "url                                0\n",
       "address                            0\n",
       "name                               0\n",
       "online_order                       0\n",
       "book_table                         0\n",
       "rate                            7775\n",
       "votes                              0\n",
       "phone                           1208\n",
       "location                          21\n",
       "rest_type                        227\n",
       "dish_liked                     28078\n",
       "cuisines                          45\n",
       "approx_cost(for two people)      346\n",
       "reviews_list                       0\n",
       "menu_item                          0\n",
       "listed_in(type)                    0\n",
       "listed_in(city)                    0\n",
       "dtype: int64"
      ]
     },
     "execution_count": 22,
     "metadata": {},
     "output_type": "execute_result"
    }
   ],
   "source": [
    "df.isnull().sum()"
   ]
  },
  {
   "cell_type": "code",
   "execution_count": 23,
   "id": "340c1549",
   "metadata": {},
   "outputs": [
    {
     "data": {
      "text/plain": [
       "['rate',\n",
       " 'phone',\n",
       " 'location',\n",
       " 'rest_type',\n",
       " 'dish_liked',\n",
       " 'cuisines',\n",
       " 'approx_cost(for two people)']"
      ]
     },
     "execution_count": 23,
     "metadata": {},
     "output_type": "execute_result"
    }
   ],
   "source": [
    "feature_na=[feature for feature in df.columns if df[feature].isnull().sum()>0]\n",
    "feature_na"
   ]
  },
  {
   "cell_type": "code",
   "execution_count": 24,
   "id": "79aa9241",
   "metadata": {},
   "outputs": [
    {
     "data": {
      "text/plain": [
       "51717"
      ]
     },
     "execution_count": 24,
     "metadata": {},
     "output_type": "execute_result"
    }
   ],
   "source": [
    "len(df)"
   ]
  },
  {
   "cell_type": "markdown",
   "id": "354e5f62",
   "metadata": {},
   "source": [
    "# for number  of missing values"
   ]
  },
  {
   "cell_type": "code",
   "execution_count": 25,
   "id": "c956c526",
   "metadata": {},
   "outputs": [
    {
     "name": "stdout",
     "output_type": "stream",
     "text": [
      "rate has 7775 missing values\n",
      "phone has 1208 missing values\n",
      "location has 21 missing values\n",
      "rest_type has 227 missing values\n",
      "dish_liked has 28078 missing values\n",
      "cuisines has 45 missing values\n",
      "approx_cost(for two people) has 346 missing values\n"
     ]
    }
   ],
   "source": [
    "for feature in feature_na:\n",
    "    print('{} has {} missing values'.format(feature,df[feature].isnull().sum()))"
   ]
  },
  {
   "cell_type": "markdown",
   "id": "ca72e6fd",
   "metadata": {},
   "source": [
    "# For percentage of missing values"
   ]
  },
  {
   "cell_type": "code",
   "execution_count": 26,
   "id": "37b0b6e1",
   "metadata": {},
   "outputs": [
    {
     "name": "stdout",
     "output_type": "stream",
     "text": [
      "rate has 15.033741322969234 % missing values\n",
      "phone has 2.335789005549432 % missing values\n",
      "location has 0.04060560357329312 % missing values\n",
      "rest_type has 0.438927238625597 % missing values\n",
      "dish_liked has 54.29162557766305 % missing values\n",
      "cuisines has 0.08701200765705668 % missing values\n",
      "approx_cost(for two people) has 0.669025658874258 % missing values\n"
     ]
    }
   ],
   "source": [
    "for feature in feature_na:\n",
    "    print('{} has {} % missing values'.format(feature,df[feature].isnull().sum()/len(df)*100))"
   ]
  },
  {
   "cell_type": "markdown",
   "id": "fc33b260",
   "metadata": {},
   "source": [
    "# For rounding up  percentage to two digit"
   ]
  },
  {
   "cell_type": "code",
   "execution_count": 27,
   "id": "d8ac59ff",
   "metadata": {},
   "outputs": [
    {
     "name": "stdout",
     "output_type": "stream",
     "text": [
      "rate has 15.03 % missing values\n",
      "phone has 2.34 % missing values\n",
      "location has 0.04 % missing values\n",
      "rest_type has 0.44 % missing values\n",
      "dish_liked has 54.29 % missing values\n",
      "cuisines has 0.09 % missing values\n",
      "approx_cost(for two people) has 0.67 % missing values\n"
     ]
    }
   ],
   "source": [
    "for feature in feature_na:\n",
    "    print('{} has {} % missing values'.format(feature,np.round(df[feature].isnull().sum()/len(df)*100,2)))"
   ]
  },
  {
   "cell_type": "markdown",
   "id": "62905bf5",
   "metadata": {},
   "source": [
    "# Finding & Dropping missing or irrelevent values"
   ]
  },
  {
   "cell_type": "code",
   "execution_count": 28,
   "id": "9f9ccdb8",
   "metadata": {},
   "outputs": [
    {
     "data": {
      "text/plain": [
       "array(['4.1/5', '3.8/5', '3.7/5', '3.6/5', '4.6/5', '4.0/5', '4.2/5',\n",
       "       '3.9/5', '3.1/5', '3.0/5', '3.2/5', '3.3/5', '2.8/5', '4.4/5',\n",
       "       '4.3/5', 'NEW', '2.9/5', '3.5/5', nan, '2.6/5', '3.8 /5', '3.4/5',\n",
       "       '4.5/5', '2.5/5', '2.7/5', '4.7/5', '2.4/5', '2.2/5', '2.3/5',\n",
       "       '3.4 /5', '-', '3.6 /5', '4.8/5', '3.9 /5', '4.2 /5', '4.0 /5',\n",
       "       '4.1 /5', '3.7 /5', '3.1 /5', '2.9 /5', '3.3 /5', '2.8 /5',\n",
       "       '3.5 /5', '2.7 /5', '2.5 /5', '3.2 /5', '2.6 /5', '4.5 /5',\n",
       "       '4.3 /5', '4.4 /5', '4.9/5', '2.1/5', '2.0/5', '1.8/5', '4.6 /5',\n",
       "       '4.9 /5', '3.0 /5', '4.8 /5', '2.3 /5', '4.7 /5', '2.4 /5',\n",
       "       '2.1 /5', '2.2 /5', '2.0 /5', '1.8 /5'], dtype=object)"
      ]
     },
     "execution_count": 28,
     "metadata": {},
     "output_type": "execute_result"
    }
   ],
   "source": [
    "df['rate'].unique()"
   ]
  },
  {
   "cell_type": "code",
   "execution_count": 30,
   "id": "7b76db14",
   "metadata": {},
   "outputs": [],
   "source": [
    "df.dropna(axis='index',subset=['rate'],inplace=True)"
   ]
  },
  {
   "cell_type": "code",
   "execution_count": 31,
   "id": "5fbe45ca",
   "metadata": {},
   "outputs": [
    {
     "data": {
      "text/plain": [
       "(43942, 17)"
      ]
     },
     "execution_count": 31,
     "metadata": {},
     "output_type": "execute_result"
    }
   ],
   "source": [
    "df.shape"
   ]
  },
  {
   "cell_type": "code",
   "execution_count": 32,
   "id": "88ab9172",
   "metadata": {},
   "outputs": [],
   "source": [
    "def split(x):\n",
    "    return x.split('/')[0]"
   ]
  },
  {
   "cell_type": "code",
   "execution_count": 33,
   "id": "1301218a",
   "metadata": {},
   "outputs": [],
   "source": [
    "df['rate'] = df['rate'].apply(split)"
   ]
  },
  {
   "cell_type": "code",
   "execution_count": 34,
   "id": "17d855f0",
   "metadata": {},
   "outputs": [
    {
     "data": {
      "text/html": [
       "<div>\n",
       "<style scoped>\n",
       "    .dataframe tbody tr th:only-of-type {\n",
       "        vertical-align: middle;\n",
       "    }\n",
       "\n",
       "    .dataframe tbody tr th {\n",
       "        vertical-align: top;\n",
       "    }\n",
       "\n",
       "    .dataframe thead th {\n",
       "        text-align: right;\n",
       "    }\n",
       "</style>\n",
       "<table border=\"1\" class=\"dataframe\">\n",
       "  <thead>\n",
       "    <tr style=\"text-align: right;\">\n",
       "      <th></th>\n",
       "      <th>url</th>\n",
       "      <th>address</th>\n",
       "      <th>name</th>\n",
       "      <th>online_order</th>\n",
       "      <th>book_table</th>\n",
       "      <th>rate</th>\n",
       "      <th>votes</th>\n",
       "      <th>phone</th>\n",
       "      <th>location</th>\n",
       "      <th>rest_type</th>\n",
       "      <th>dish_liked</th>\n",
       "      <th>cuisines</th>\n",
       "      <th>approx_cost(for two people)</th>\n",
       "      <th>reviews_list</th>\n",
       "      <th>menu_item</th>\n",
       "      <th>listed_in(type)</th>\n",
       "      <th>listed_in(city)</th>\n",
       "    </tr>\n",
       "  </thead>\n",
       "  <tbody>\n",
       "    <tr>\n",
       "      <th>0</th>\n",
       "      <td>https://www.zomato.com/bangalore/jalsa-banasha...</td>\n",
       "      <td>942, 21st Main Road, 2nd Stage, Banashankari, ...</td>\n",
       "      <td>Jalsa</td>\n",
       "      <td>Yes</td>\n",
       "      <td>Yes</td>\n",
       "      <td>4.1</td>\n",
       "      <td>775</td>\n",
       "      <td>080 42297555\\r\\n+91 9743772233</td>\n",
       "      <td>Banashankari</td>\n",
       "      <td>Casual Dining</td>\n",
       "      <td>Pasta, Lunch Buffet, Masala Papad, Paneer Laja...</td>\n",
       "      <td>North Indian, Mughlai, Chinese</td>\n",
       "      <td>800</td>\n",
       "      <td>[('Rated 4.0', 'RATED\\n  A beautiful place to ...</td>\n",
       "      <td>[]</td>\n",
       "      <td>Buffet</td>\n",
       "      <td>Banashankari</td>\n",
       "    </tr>\n",
       "    <tr>\n",
       "      <th>1</th>\n",
       "      <td>https://www.zomato.com/bangalore/spice-elephan...</td>\n",
       "      <td>2nd Floor, 80 Feet Road, Near Big Bazaar, 6th ...</td>\n",
       "      <td>Spice Elephant</td>\n",
       "      <td>Yes</td>\n",
       "      <td>No</td>\n",
       "      <td>4.1</td>\n",
       "      <td>787</td>\n",
       "      <td>080 41714161</td>\n",
       "      <td>Banashankari</td>\n",
       "      <td>Casual Dining</td>\n",
       "      <td>Momos, Lunch Buffet, Chocolate Nirvana, Thai G...</td>\n",
       "      <td>Chinese, North Indian, Thai</td>\n",
       "      <td>800</td>\n",
       "      <td>[('Rated 4.0', 'RATED\\n  Had been here for din...</td>\n",
       "      <td>[]</td>\n",
       "      <td>Buffet</td>\n",
       "      <td>Banashankari</td>\n",
       "    </tr>\n",
       "    <tr>\n",
       "      <th>2</th>\n",
       "      <td>https://www.zomato.com/SanchurroBangalore?cont...</td>\n",
       "      <td>1112, Next to KIMS Medical College, 17th Cross...</td>\n",
       "      <td>San Churro Cafe</td>\n",
       "      <td>Yes</td>\n",
       "      <td>No</td>\n",
       "      <td>3.8</td>\n",
       "      <td>918</td>\n",
       "      <td>+91 9663487993</td>\n",
       "      <td>Banashankari</td>\n",
       "      <td>Cafe, Casual Dining</td>\n",
       "      <td>Churros, Cannelloni, Minestrone Soup, Hot Choc...</td>\n",
       "      <td>Cafe, Mexican, Italian</td>\n",
       "      <td>800</td>\n",
       "      <td>[('Rated 3.0', \"RATED\\n  Ambience is not that ...</td>\n",
       "      <td>[]</td>\n",
       "      <td>Buffet</td>\n",
       "      <td>Banashankari</td>\n",
       "    </tr>\n",
       "    <tr>\n",
       "      <th>3</th>\n",
       "      <td>https://www.zomato.com/bangalore/addhuri-udupi...</td>\n",
       "      <td>1st Floor, Annakuteera, 3rd Stage, Banashankar...</td>\n",
       "      <td>Addhuri Udupi Bhojana</td>\n",
       "      <td>No</td>\n",
       "      <td>No</td>\n",
       "      <td>3.7</td>\n",
       "      <td>88</td>\n",
       "      <td>+91 9620009302</td>\n",
       "      <td>Banashankari</td>\n",
       "      <td>Quick Bites</td>\n",
       "      <td>Masala Dosa</td>\n",
       "      <td>South Indian, North Indian</td>\n",
       "      <td>300</td>\n",
       "      <td>[('Rated 4.0', \"RATED\\n  Great food and proper...</td>\n",
       "      <td>[]</td>\n",
       "      <td>Buffet</td>\n",
       "      <td>Banashankari</td>\n",
       "    </tr>\n",
       "    <tr>\n",
       "      <th>4</th>\n",
       "      <td>https://www.zomato.com/bangalore/grand-village...</td>\n",
       "      <td>10, 3rd Floor, Lakshmi Associates, Gandhi Baza...</td>\n",
       "      <td>Grand Village</td>\n",
       "      <td>No</td>\n",
       "      <td>No</td>\n",
       "      <td>3.8</td>\n",
       "      <td>166</td>\n",
       "      <td>+91 8026612447\\r\\n+91 9901210005</td>\n",
       "      <td>Basavanagudi</td>\n",
       "      <td>Casual Dining</td>\n",
       "      <td>Panipuri, Gol Gappe</td>\n",
       "      <td>North Indian, Rajasthani</td>\n",
       "      <td>600</td>\n",
       "      <td>[('Rated 4.0', 'RATED\\n  Very good restaurant ...</td>\n",
       "      <td>[]</td>\n",
       "      <td>Buffet</td>\n",
       "      <td>Banashankari</td>\n",
       "    </tr>\n",
       "  </tbody>\n",
       "</table>\n",
       "</div>"
      ],
      "text/plain": [
       "                                                 url  \\\n",
       "0  https://www.zomato.com/bangalore/jalsa-banasha...   \n",
       "1  https://www.zomato.com/bangalore/spice-elephan...   \n",
       "2  https://www.zomato.com/SanchurroBangalore?cont...   \n",
       "3  https://www.zomato.com/bangalore/addhuri-udupi...   \n",
       "4  https://www.zomato.com/bangalore/grand-village...   \n",
       "\n",
       "                                             address                   name  \\\n",
       "0  942, 21st Main Road, 2nd Stage, Banashankari, ...                  Jalsa   \n",
       "1  2nd Floor, 80 Feet Road, Near Big Bazaar, 6th ...         Spice Elephant   \n",
       "2  1112, Next to KIMS Medical College, 17th Cross...        San Churro Cafe   \n",
       "3  1st Floor, Annakuteera, 3rd Stage, Banashankar...  Addhuri Udupi Bhojana   \n",
       "4  10, 3rd Floor, Lakshmi Associates, Gandhi Baza...          Grand Village   \n",
       "\n",
       "  online_order book_table rate  votes                             phone  \\\n",
       "0          Yes        Yes  4.1    775    080 42297555\\r\\n+91 9743772233   \n",
       "1          Yes         No  4.1    787                      080 41714161   \n",
       "2          Yes         No  3.8    918                    +91 9663487993   \n",
       "3           No         No  3.7     88                    +91 9620009302   \n",
       "4           No         No  3.8    166  +91 8026612447\\r\\n+91 9901210005   \n",
       "\n",
       "       location            rest_type  \\\n",
       "0  Banashankari        Casual Dining   \n",
       "1  Banashankari        Casual Dining   \n",
       "2  Banashankari  Cafe, Casual Dining   \n",
       "3  Banashankari          Quick Bites   \n",
       "4  Basavanagudi        Casual Dining   \n",
       "\n",
       "                                          dish_liked  \\\n",
       "0  Pasta, Lunch Buffet, Masala Papad, Paneer Laja...   \n",
       "1  Momos, Lunch Buffet, Chocolate Nirvana, Thai G...   \n",
       "2  Churros, Cannelloni, Minestrone Soup, Hot Choc...   \n",
       "3                                        Masala Dosa   \n",
       "4                                Panipuri, Gol Gappe   \n",
       "\n",
       "                         cuisines approx_cost(for two people)  \\\n",
       "0  North Indian, Mughlai, Chinese                         800   \n",
       "1     Chinese, North Indian, Thai                         800   \n",
       "2          Cafe, Mexican, Italian                         800   \n",
       "3      South Indian, North Indian                         300   \n",
       "4        North Indian, Rajasthani                         600   \n",
       "\n",
       "                                        reviews_list menu_item  \\\n",
       "0  [('Rated 4.0', 'RATED\\n  A beautiful place to ...        []   \n",
       "1  [('Rated 4.0', 'RATED\\n  Had been here for din...        []   \n",
       "2  [('Rated 3.0', \"RATED\\n  Ambience is not that ...        []   \n",
       "3  [('Rated 4.0', \"RATED\\n  Great food and proper...        []   \n",
       "4  [('Rated 4.0', 'RATED\\n  Very good restaurant ...        []   \n",
       "\n",
       "  listed_in(type) listed_in(city)  \n",
       "0          Buffet    Banashankari  \n",
       "1          Buffet    Banashankari  \n",
       "2          Buffet    Banashankari  \n",
       "3          Buffet    Banashankari  \n",
       "4          Buffet    Banashankari  "
      ]
     },
     "execution_count": 34,
     "metadata": {},
     "output_type": "execute_result"
    }
   ],
   "source": [
    "df.head()"
   ]
  },
  {
   "cell_type": "markdown",
   "id": "2704c66a",
   "metadata": {},
   "source": [
    "# Replacing the irrelevant values"
   ]
  },
  {
   "cell_type": "code",
   "execution_count": 35,
   "id": "5cd9c403",
   "metadata": {},
   "outputs": [],
   "source": [
    "df.replace('NEW',0,inplace=True)"
   ]
  },
  {
   "cell_type": "code",
   "execution_count": 36,
   "id": "1fbe7163",
   "metadata": {},
   "outputs": [],
   "source": [
    "df.replace('-',0,inplace=True)"
   ]
  },
  {
   "cell_type": "code",
   "execution_count": 37,
   "id": "e18375c8",
   "metadata": {},
   "outputs": [],
   "source": [
    "df['rate'] = df['rate'].astype(float)"
   ]
  },
  {
   "cell_type": "code",
   "execution_count": 38,
   "id": "cf284e5d",
   "metadata": {},
   "outputs": [
    {
     "data": {
      "text/plain": [
       "array([4.1, 3.8, 3.7, 3.6, 4.6, 4. , 4.2, 3.9, 3.1, 3. , 3.2, 3.3, 2.8,\n",
       "       4.4, 4.3, 0. , 2.9, 3.5, 2.6, 3.4, 4.5, 2.5, 2.7, 4.7, 2.4, 2.2,\n",
       "       2.3, 4.8, 4.9, 2.1, 2. , 1.8])"
      ]
     },
     "execution_count": 38,
     "metadata": {},
     "output_type": "execute_result"
    }
   ],
   "source": [
    "df['rate'].unique()"
   ]
  },
  {
   "cell_type": "code",
   "execution_count": 47,
   "id": "af05635c",
   "metadata": {},
   "outputs": [
    {
     "data": {
      "text/html": [
       "<div>\n",
       "<style scoped>\n",
       "    .dataframe tbody tr th:only-of-type {\n",
       "        vertical-align: middle;\n",
       "    }\n",
       "\n",
       "    .dataframe tbody tr th {\n",
       "        vertical-align: top;\n",
       "    }\n",
       "\n",
       "    .dataframe thead th {\n",
       "        text-align: right;\n",
       "    }\n",
       "</style>\n",
       "<table border=\"1\" class=\"dataframe\">\n",
       "  <thead>\n",
       "    <tr style=\"text-align: right;\">\n",
       "      <th></th>\n",
       "      <th>url</th>\n",
       "      <th>address</th>\n",
       "      <th>name</th>\n",
       "      <th>online_order</th>\n",
       "      <th>book_table</th>\n",
       "      <th>rate</th>\n",
       "      <th>votes</th>\n",
       "      <th>phone</th>\n",
       "      <th>location</th>\n",
       "      <th>rest_type</th>\n",
       "      <th>dish_liked</th>\n",
       "      <th>cuisines</th>\n",
       "      <th>approx_cost(for two people)</th>\n",
       "      <th>reviews_list</th>\n",
       "      <th>menu_item</th>\n",
       "      <th>listed_in(type)</th>\n",
       "      <th>listed_in(city)</th>\n",
       "    </tr>\n",
       "  </thead>\n",
       "  <tbody>\n",
       "    <tr>\n",
       "      <th>0</th>\n",
       "      <td>https://www.zomato.com/bangalore/jalsa-banasha...</td>\n",
       "      <td>942, 21st Main Road, 2nd Stage, Banashankari, ...</td>\n",
       "      <td>Jalsa</td>\n",
       "      <td>Yes</td>\n",
       "      <td>Yes</td>\n",
       "      <td>4.1</td>\n",
       "      <td>775</td>\n",
       "      <td>080 42297555\\r\\n+91 9743772233</td>\n",
       "      <td>Banashankari</td>\n",
       "      <td>Casual Dining</td>\n",
       "      <td>Pasta, Lunch Buffet, Masala Papad, Paneer Laja...</td>\n",
       "      <td>North Indian, Mughlai, Chinese</td>\n",
       "      <td>800</td>\n",
       "      <td>[('Rated 4.0', 'RATED\\n  A beautiful place to ...</td>\n",
       "      <td>[]</td>\n",
       "      <td>Buffet</td>\n",
       "      <td>Banashankari</td>\n",
       "    </tr>\n",
       "    <tr>\n",
       "      <th>1</th>\n",
       "      <td>https://www.zomato.com/bangalore/spice-elephan...</td>\n",
       "      <td>2nd Floor, 80 Feet Road, Near Big Bazaar, 6th ...</td>\n",
       "      <td>Spice Elephant</td>\n",
       "      <td>Yes</td>\n",
       "      <td>No</td>\n",
       "      <td>4.1</td>\n",
       "      <td>787</td>\n",
       "      <td>080 41714161</td>\n",
       "      <td>Banashankari</td>\n",
       "      <td>Casual Dining</td>\n",
       "      <td>Momos, Lunch Buffet, Chocolate Nirvana, Thai G...</td>\n",
       "      <td>Chinese, North Indian, Thai</td>\n",
       "      <td>800</td>\n",
       "      <td>[('Rated 4.0', 'RATED\\n  Had been here for din...</td>\n",
       "      <td>[]</td>\n",
       "      <td>Buffet</td>\n",
       "      <td>Banashankari</td>\n",
       "    </tr>\n",
       "    <tr>\n",
       "      <th>2</th>\n",
       "      <td>https://www.zomato.com/SanchurroBangalore?cont...</td>\n",
       "      <td>1112, Next to KIMS Medical College, 17th Cross...</td>\n",
       "      <td>San Churro Cafe</td>\n",
       "      <td>Yes</td>\n",
       "      <td>No</td>\n",
       "      <td>3.8</td>\n",
       "      <td>918</td>\n",
       "      <td>+91 9663487993</td>\n",
       "      <td>Banashankari</td>\n",
       "      <td>Cafe, Casual Dining</td>\n",
       "      <td>Churros, Cannelloni, Minestrone Soup, Hot Choc...</td>\n",
       "      <td>Cafe, Mexican, Italian</td>\n",
       "      <td>800</td>\n",
       "      <td>[('Rated 3.0', \"RATED\\n  Ambience is not that ...</td>\n",
       "      <td>[]</td>\n",
       "      <td>Buffet</td>\n",
       "      <td>Banashankari</td>\n",
       "    </tr>\n",
       "    <tr>\n",
       "      <th>3</th>\n",
       "      <td>https://www.zomato.com/bangalore/addhuri-udupi...</td>\n",
       "      <td>1st Floor, Annakuteera, 3rd Stage, Banashankar...</td>\n",
       "      <td>Addhuri Udupi Bhojana</td>\n",
       "      <td>No</td>\n",
       "      <td>No</td>\n",
       "      <td>3.7</td>\n",
       "      <td>88</td>\n",
       "      <td>+91 9620009302</td>\n",
       "      <td>Banashankari</td>\n",
       "      <td>Quick Bites</td>\n",
       "      <td>Masala Dosa</td>\n",
       "      <td>South Indian, North Indian</td>\n",
       "      <td>300</td>\n",
       "      <td>[('Rated 4.0', \"RATED\\n  Great food and proper...</td>\n",
       "      <td>[]</td>\n",
       "      <td>Buffet</td>\n",
       "      <td>Banashankari</td>\n",
       "    </tr>\n",
       "    <tr>\n",
       "      <th>4</th>\n",
       "      <td>https://www.zomato.com/bangalore/grand-village...</td>\n",
       "      <td>10, 3rd Floor, Lakshmi Associates, Gandhi Baza...</td>\n",
       "      <td>Grand Village</td>\n",
       "      <td>No</td>\n",
       "      <td>No</td>\n",
       "      <td>3.8</td>\n",
       "      <td>166</td>\n",
       "      <td>+91 8026612447\\r\\n+91 9901210005</td>\n",
       "      <td>Basavanagudi</td>\n",
       "      <td>Casual Dining</td>\n",
       "      <td>Panipuri, Gol Gappe</td>\n",
       "      <td>North Indian, Rajasthani</td>\n",
       "      <td>600</td>\n",
       "      <td>[('Rated 4.0', 'RATED\\n  Very good restaurant ...</td>\n",
       "      <td>[]</td>\n",
       "      <td>Buffet</td>\n",
       "      <td>Banashankari</td>\n",
       "    </tr>\n",
       "  </tbody>\n",
       "</table>\n",
       "</div>"
      ],
      "text/plain": [
       "                                                 url  \\\n",
       "0  https://www.zomato.com/bangalore/jalsa-banasha...   \n",
       "1  https://www.zomato.com/bangalore/spice-elephan...   \n",
       "2  https://www.zomato.com/SanchurroBangalore?cont...   \n",
       "3  https://www.zomato.com/bangalore/addhuri-udupi...   \n",
       "4  https://www.zomato.com/bangalore/grand-village...   \n",
       "\n",
       "                                             address                   name  \\\n",
       "0  942, 21st Main Road, 2nd Stage, Banashankari, ...                  Jalsa   \n",
       "1  2nd Floor, 80 Feet Road, Near Big Bazaar, 6th ...         Spice Elephant   \n",
       "2  1112, Next to KIMS Medical College, 17th Cross...        San Churro Cafe   \n",
       "3  1st Floor, Annakuteera, 3rd Stage, Banashankar...  Addhuri Udupi Bhojana   \n",
       "4  10, 3rd Floor, Lakshmi Associates, Gandhi Baza...          Grand Village   \n",
       "\n",
       "  online_order book_table  rate  votes                             phone  \\\n",
       "0          Yes        Yes   4.1    775    080 42297555\\r\\n+91 9743772233   \n",
       "1          Yes         No   4.1    787                      080 41714161   \n",
       "2          Yes         No   3.8    918                    +91 9663487993   \n",
       "3           No         No   3.7     88                    +91 9620009302   \n",
       "4           No         No   3.8    166  +91 8026612447\\r\\n+91 9901210005   \n",
       "\n",
       "       location            rest_type  \\\n",
       "0  Banashankari        Casual Dining   \n",
       "1  Banashankari        Casual Dining   \n",
       "2  Banashankari  Cafe, Casual Dining   \n",
       "3  Banashankari          Quick Bites   \n",
       "4  Basavanagudi        Casual Dining   \n",
       "\n",
       "                                          dish_liked  \\\n",
       "0  Pasta, Lunch Buffet, Masala Papad, Paneer Laja...   \n",
       "1  Momos, Lunch Buffet, Chocolate Nirvana, Thai G...   \n",
       "2  Churros, Cannelloni, Minestrone Soup, Hot Choc...   \n",
       "3                                        Masala Dosa   \n",
       "4                                Panipuri, Gol Gappe   \n",
       "\n",
       "                         cuisines approx_cost(for two people)  \\\n",
       "0  North Indian, Mughlai, Chinese                         800   \n",
       "1     Chinese, North Indian, Thai                         800   \n",
       "2          Cafe, Mexican, Italian                         800   \n",
       "3      South Indian, North Indian                         300   \n",
       "4        North Indian, Rajasthani                         600   \n",
       "\n",
       "                                        reviews_list menu_item  \\\n",
       "0  [('Rated 4.0', 'RATED\\n  A beautiful place to ...        []   \n",
       "1  [('Rated 4.0', 'RATED\\n  Had been here for din...        []   \n",
       "2  [('Rated 3.0', \"RATED\\n  Ambience is not that ...        []   \n",
       "3  [('Rated 4.0', \"RATED\\n  Great food and proper...        []   \n",
       "4  [('Rated 4.0', 'RATED\\n  Very good restaurant ...        []   \n",
       "\n",
       "  listed_in(type) listed_in(city)  \n",
       "0          Buffet    Banashankari  \n",
       "1          Buffet    Banashankari  \n",
       "2          Buffet    Banashankari  \n",
       "3          Buffet    Banashankari  \n",
       "4          Buffet    Banashankari  "
      ]
     },
     "execution_count": 47,
     "metadata": {},
     "output_type": "execute_result"
    }
   ],
   "source": [
    "df.head()"
   ]
  },
  {
   "cell_type": "markdown",
   "id": "ada117fd",
   "metadata": {},
   "source": [
    "# Calculating average rating of Restaurant"
   ]
  },
  {
   "cell_type": "code",
   "execution_count": 39,
   "id": "a4ed118a",
   "metadata": {},
   "outputs": [
    {
     "data": {
      "text/plain": [
       "name\n",
       "#FeelTheROLL                                    3.400000\n",
       "#L-81 Cafe                                      3.900000\n",
       "#refuel                                         3.700000\n",
       "1000 B.C                                        3.200000\n",
       "100ÃÂÃÂÃÂÃÂÃÂÃÂÃÂÃÂ°C            3.700000\n",
       "                                                  ...   \n",
       "i-Bar - The Park Bangalore                      3.800000\n",
       "iFruit Live Ice Creams                          3.400000\n",
       "iSpice Resto Cafe                               3.700000\n",
       "nu.tree                                         4.314286\n",
       "re:cess - Hilton Bangalore Embassy GolfLinks    4.100000\n",
       "Name: rate, Length: 7162, dtype: float64"
      ]
     },
     "execution_count": 39,
     "metadata": {},
     "output_type": "execute_result"
    }
   ],
   "source": [
    "df.groupby('name')['rate'].mean()"
   ]
  },
  {
   "cell_type": "code",
   "execution_count": 40,
   "id": "9b801fac",
   "metadata": {},
   "outputs": [
    {
     "data": {
      "text/html": [
       "<div>\n",
       "<style scoped>\n",
       "    .dataframe tbody tr th:only-of-type {\n",
       "        vertical-align: middle;\n",
       "    }\n",
       "\n",
       "    .dataframe tbody tr th {\n",
       "        vertical-align: top;\n",
       "    }\n",
       "\n",
       "    .dataframe thead th {\n",
       "        text-align: right;\n",
       "    }\n",
       "</style>\n",
       "<table border=\"1\" class=\"dataframe\">\n",
       "  <thead>\n",
       "    <tr style=\"text-align: right;\">\n",
       "      <th></th>\n",
       "      <th>rate</th>\n",
       "    </tr>\n",
       "    <tr>\n",
       "      <th>name</th>\n",
       "      <th></th>\n",
       "    </tr>\n",
       "  </thead>\n",
       "  <tbody>\n",
       "    <tr>\n",
       "      <th>#FeelTheROLL</th>\n",
       "      <td>3.400000</td>\n",
       "    </tr>\n",
       "    <tr>\n",
       "      <th>#L-81 Cafe</th>\n",
       "      <td>3.900000</td>\n",
       "    </tr>\n",
       "    <tr>\n",
       "      <th>#refuel</th>\n",
       "      <td>3.700000</td>\n",
       "    </tr>\n",
       "    <tr>\n",
       "      <th>1000 B.C</th>\n",
       "      <td>3.200000</td>\n",
       "    </tr>\n",
       "    <tr>\n",
       "      <th>100ÃÂÃÂÃÂÃÂÃÂÃÂÃÂÃÂ°C</th>\n",
       "      <td>3.700000</td>\n",
       "    </tr>\n",
       "    <tr>\n",
       "      <th>...</th>\n",
       "      <td>...</td>\n",
       "    </tr>\n",
       "    <tr>\n",
       "      <th>i-Bar - The Park Bangalore</th>\n",
       "      <td>3.800000</td>\n",
       "    </tr>\n",
       "    <tr>\n",
       "      <th>iFruit Live Ice Creams</th>\n",
       "      <td>3.400000</td>\n",
       "    </tr>\n",
       "    <tr>\n",
       "      <th>iSpice Resto Cafe</th>\n",
       "      <td>3.700000</td>\n",
       "    </tr>\n",
       "    <tr>\n",
       "      <th>nu.tree</th>\n",
       "      <td>4.314286</td>\n",
       "    </tr>\n",
       "    <tr>\n",
       "      <th>re:cess - Hilton Bangalore Embassy GolfLinks</th>\n",
       "      <td>4.100000</td>\n",
       "    </tr>\n",
       "  </tbody>\n",
       "</table>\n",
       "<p>7162 rows × 1 columns</p>\n",
       "</div>"
      ],
      "text/plain": [
       "                                                  rate\n",
       "name                                                  \n",
       "#FeelTheROLL                                  3.400000\n",
       "#L-81 Cafe                                    3.900000\n",
       "#refuel                                       3.700000\n",
       "1000 B.C                                      3.200000\n",
       "100ÃÂÃÂÃÂÃÂÃÂÃÂÃÂÃÂ°C          3.700000\n",
       "...                                                ...\n",
       "i-Bar - The Park Bangalore                    3.800000\n",
       "iFruit Live Ice Creams                        3.400000\n",
       "iSpice Resto Cafe                             3.700000\n",
       "nu.tree                                       4.314286\n",
       "re:cess - Hilton Bangalore Embassy GolfLinks  4.100000\n",
       "\n",
       "[7162 rows x 1 columns]"
      ]
     },
     "execution_count": 40,
     "metadata": {},
     "output_type": "execute_result"
    }
   ],
   "source": [
    "df.groupby('name')['rate'].mean().to_frame()"
   ]
  },
  {
   "cell_type": "code",
   "execution_count": 58,
   "id": "04847470",
   "metadata": {},
   "outputs": [],
   "source": [
    "# plotting the average  rating  of restaurant"
   ]
  },
  {
   "cell_type": "code",
   "execution_count": 41,
   "id": "af9fe4d2",
   "metadata": {},
   "outputs": [
    {
     "data": {
      "text/plain": [
       "<AxesSubplot:xlabel='name'>"
      ]
     },
     "execution_count": 41,
     "metadata": {},
     "output_type": "execute_result"
    },
    {
     "name": "stderr",
     "output_type": "stream",
     "text": [
      "C:\\Users\\Dell\\.conda\\envs\\rstudio\\lib\\site-packages\\IPython\\core\\pylabtools.py:151: UserWarning: Glyph 131 (\\x83) missing from current font.\n",
      "  fig.canvas.print_figure(bytes_io, **kw)\n",
      "C:\\Users\\Dell\\.conda\\envs\\rstudio\\lib\\site-packages\\IPython\\core\\pylabtools.py:151: UserWarning: Glyph 130 (\\x82) missing from current font.\n",
      "  fig.canvas.print_figure(bytes_io, **kw)\n"
     ]
    },
    {
     "data": {
      "image/png": "[encoded data removed]",
      "text/plain": [
       "<Figure size 432x288 with 1 Axes>"
      ]
     },
     "metadata": {
      "needs_background": "light"
     },
     "output_type": "display_data"
    }
   ],
   "source": [
    "df.groupby('name')['rate'].mean().nlargest(10).plot.bar()"
   ]
  },
  {
   "cell_type": "markdown",
   "id": "355ede4e",
   "metadata": {},
   "source": [
    "# Formating Table"
   ]
  },
  {
   "cell_type": "code",
   "execution_count": 42,
   "id": "6ee54591",
   "metadata": {},
   "outputs": [
    {
     "data": {
      "text/html": [
       "<div>\n",
       "<style scoped>\n",
       "    .dataframe tbody tr th:only-of-type {\n",
       "        vertical-align: middle;\n",
       "    }\n",
       "\n",
       "    .dataframe tbody tr th {\n",
       "        vertical-align: top;\n",
       "    }\n",
       "\n",
       "    .dataframe thead th {\n",
       "        text-align: right;\n",
       "    }\n",
       "</style>\n",
       "<table border=\"1\" class=\"dataframe\">\n",
       "  <thead>\n",
       "    <tr style=\"text-align: right;\">\n",
       "      <th></th>\n",
       "      <th>name</th>\n",
       "      <th>rate</th>\n",
       "    </tr>\n",
       "  </thead>\n",
       "  <tbody>\n",
       "    <tr>\n",
       "      <th>0</th>\n",
       "      <td>#FeelTheROLL</td>\n",
       "      <td>3.400000</td>\n",
       "    </tr>\n",
       "    <tr>\n",
       "      <th>1</th>\n",
       "      <td>#L-81 Cafe</td>\n",
       "      <td>3.900000</td>\n",
       "    </tr>\n",
       "    <tr>\n",
       "      <th>2</th>\n",
       "      <td>#refuel</td>\n",
       "      <td>3.700000</td>\n",
       "    </tr>\n",
       "    <tr>\n",
       "      <th>3</th>\n",
       "      <td>1000 B.C</td>\n",
       "      <td>3.200000</td>\n",
       "    </tr>\n",
       "    <tr>\n",
       "      <th>4</th>\n",
       "      <td>100ÃÂÃÂÃÂÃÂÃÂÃÂÃÂÃÂ°C</td>\n",
       "      <td>3.700000</td>\n",
       "    </tr>\n",
       "    <tr>\n",
       "      <th>...</th>\n",
       "      <td>...</td>\n",
       "      <td>...</td>\n",
       "    </tr>\n",
       "    <tr>\n",
       "      <th>7157</th>\n",
       "      <td>i-Bar - The Park Bangalore</td>\n",
       "      <td>3.800000</td>\n",
       "    </tr>\n",
       "    <tr>\n",
       "      <th>7158</th>\n",
       "      <td>iFruit Live Ice Creams</td>\n",
       "      <td>3.400000</td>\n",
       "    </tr>\n",
       "    <tr>\n",
       "      <th>7159</th>\n",
       "      <td>iSpice Resto Cafe</td>\n",
       "      <td>3.700000</td>\n",
       "    </tr>\n",
       "    <tr>\n",
       "      <th>7160</th>\n",
       "      <td>nu.tree</td>\n",
       "      <td>4.314286</td>\n",
       "    </tr>\n",
       "    <tr>\n",
       "      <th>7161</th>\n",
       "      <td>re:cess - Hilton Bangalore Embassy GolfLinks</td>\n",
       "      <td>4.100000</td>\n",
       "    </tr>\n",
       "  </tbody>\n",
       "</table>\n",
       "<p>7162 rows × 2 columns</p>\n",
       "</div>"
      ],
      "text/plain": [
       "                                              name      rate\n",
       "0                                     #FeelTheROLL  3.400000\n",
       "1                                       #L-81 Cafe  3.900000\n",
       "2                                          #refuel  3.700000\n",
       "3                                         1000 B.C  3.200000\n",
       "4             100ÃÂÃÂÃÂÃÂÃÂÃÂÃÂÃÂ°C  3.700000\n",
       "...                                            ...       ...\n",
       "7157                    i-Bar - The Park Bangalore  3.800000\n",
       "7158                        iFruit Live Ice Creams  3.400000\n",
       "7159                             iSpice Resto Cafe  3.700000\n",
       "7160                                       nu.tree  4.314286\n",
       "7161  re:cess - Hilton Bangalore Embassy GolfLinks  4.100000\n",
       "\n",
       "[7162 rows x 2 columns]"
      ]
     },
     "execution_count": 42,
     "metadata": {},
     "output_type": "execute_result"
    }
   ],
   "source": [
    "df_rate = df.groupby('name')['rate'].mean().to_frame().reset_index()\n",
    "df_rate"
   ]
  },
  {
   "cell_type": "code",
   "execution_count": 43,
   "id": "8e96e1a5",
   "metadata": {},
   "outputs": [
    {
     "data": {
      "text/html": [
       "<div>\n",
       "<style scoped>\n",
       "    .dataframe tbody tr th:only-of-type {\n",
       "        vertical-align: middle;\n",
       "    }\n",
       "\n",
       "    .dataframe tbody tr th {\n",
       "        vertical-align: top;\n",
       "    }\n",
       "\n",
       "    .dataframe thead th {\n",
       "        text-align: right;\n",
       "    }\n",
       "</style>\n",
       "<table border=\"1\" class=\"dataframe\">\n",
       "  <thead>\n",
       "    <tr style=\"text-align: right;\">\n",
       "      <th></th>\n",
       "      <th>name</th>\n",
       "      <th>rate</th>\n",
       "    </tr>\n",
       "  </thead>\n",
       "  <tbody>\n",
       "    <tr>\n",
       "      <th>0</th>\n",
       "      <td>#FeelTheROLL</td>\n",
       "      <td>3.400000</td>\n",
       "    </tr>\n",
       "    <tr>\n",
       "      <th>1</th>\n",
       "      <td>#L-81 Cafe</td>\n",
       "      <td>3.900000</td>\n",
       "    </tr>\n",
       "    <tr>\n",
       "      <th>2</th>\n",
       "      <td>#refuel</td>\n",
       "      <td>3.700000</td>\n",
       "    </tr>\n",
       "    <tr>\n",
       "      <th>3</th>\n",
       "      <td>1000 B.C</td>\n",
       "      <td>3.200000</td>\n",
       "    </tr>\n",
       "    <tr>\n",
       "      <th>4</th>\n",
       "      <td>100ÃÂÃÂÃÂÃÂÃÂÃÂÃÂÃÂ°C</td>\n",
       "      <td>3.700000</td>\n",
       "    </tr>\n",
       "    <tr>\n",
       "      <th>5</th>\n",
       "      <td>11 to 11 Express Biriyanis</td>\n",
       "      <td>3.500000</td>\n",
       "    </tr>\n",
       "    <tr>\n",
       "      <th>6</th>\n",
       "      <td>1131 Bar + Kitchen</td>\n",
       "      <td>4.500000</td>\n",
       "    </tr>\n",
       "    <tr>\n",
       "      <th>7</th>\n",
       "      <td>12th Main - Grand Mercure</td>\n",
       "      <td>4.100000</td>\n",
       "    </tr>\n",
       "    <tr>\n",
       "      <th>8</th>\n",
       "      <td>1441 Pizzeria</td>\n",
       "      <td>4.100000</td>\n",
       "    </tr>\n",
       "    <tr>\n",
       "      <th>9</th>\n",
       "      <td>1522 - The Pub</td>\n",
       "      <td>4.212000</td>\n",
       "    </tr>\n",
       "    <tr>\n",
       "      <th>10</th>\n",
       "      <td>154 Breakfast Club</td>\n",
       "      <td>4.000000</td>\n",
       "    </tr>\n",
       "    <tr>\n",
       "      <th>11</th>\n",
       "      <td>1722 Urban Bistro</td>\n",
       "      <td>4.100000</td>\n",
       "    </tr>\n",
       "    <tr>\n",
       "      <th>12</th>\n",
       "      <td>18+ Ice Cafe</td>\n",
       "      <td>3.500000</td>\n",
       "    </tr>\n",
       "    <tr>\n",
       "      <th>13</th>\n",
       "      <td>1947</td>\n",
       "      <td>4.021429</td>\n",
       "    </tr>\n",
       "    <tr>\n",
       "      <th>14</th>\n",
       "      <td>1980s Games Cafe</td>\n",
       "      <td>3.400000</td>\n",
       "    </tr>\n",
       "    <tr>\n",
       "      <th>15</th>\n",
       "      <td>1992 Chats - Space</td>\n",
       "      <td>3.700000</td>\n",
       "    </tr>\n",
       "    <tr>\n",
       "      <th>16</th>\n",
       "      <td>1Q1</td>\n",
       "      <td>4.300000</td>\n",
       "    </tr>\n",
       "    <tr>\n",
       "      <th>17</th>\n",
       "      <td>1TO3 Kitchen</td>\n",
       "      <td>3.100000</td>\n",
       "    </tr>\n",
       "    <tr>\n",
       "      <th>18</th>\n",
       "      <td>2 Statez</td>\n",
       "      <td>3.700000</td>\n",
       "    </tr>\n",
       "    <tr>\n",
       "      <th>19</th>\n",
       "      <td>20 Char - Sterlings MAC Hotel</td>\n",
       "      <td>4.000000</td>\n",
       "    </tr>\n",
       "  </tbody>\n",
       "</table>\n",
       "</div>"
      ],
      "text/plain": [
       "                                    name      rate\n",
       "0                           #FeelTheROLL  3.400000\n",
       "1                             #L-81 Cafe  3.900000\n",
       "2                                #refuel  3.700000\n",
       "3                               1000 B.C  3.200000\n",
       "4   100ÃÂÃÂÃÂÃÂÃÂÃÂÃÂÃÂ°C  3.700000\n",
       "5             11 to 11 Express Biriyanis  3.500000\n",
       "6                     1131 Bar + Kitchen  4.500000\n",
       "7              12th Main - Grand Mercure  4.100000\n",
       "8                          1441 Pizzeria  4.100000\n",
       "9                         1522 - The Pub  4.212000\n",
       "10                    154 Breakfast Club  4.000000\n",
       "11                     1722 Urban Bistro  4.100000\n",
       "12                          18+ Ice Cafe  3.500000\n",
       "13                                  1947  4.021429\n",
       "14                      1980s Games Cafe  3.400000\n",
       "15                    1992 Chats - Space  3.700000\n",
       "16                                   1Q1  4.300000\n",
       "17                          1TO3 Kitchen  3.100000\n",
       "18                              2 Statez  3.700000\n",
       "19         20 Char - Sterlings MAC Hotel  4.000000"
      ]
     },
     "execution_count": 43,
     "metadata": {},
     "output_type": "execute_result"
    }
   ],
   "source": [
    "df_rate.head(20)"
   ]
  },
  {
   "cell_type": "code",
   "execution_count": 90,
   "id": "525d36de",
   "metadata": {},
   "outputs": [],
   "source": [
    "# Renaming tables"
   ]
  },
  {
   "cell_type": "code",
   "execution_count": 44,
   "id": "e33a49d5",
   "metadata": {},
   "outputs": [],
   "source": [
    "df_rate.columns=['Resturant','Avg_rating']"
   ]
  },
  {
   "cell_type": "code",
   "execution_count": 45,
   "id": "22501b24",
   "metadata": {},
   "outputs": [
    {
     "data": {
      "text/html": [
       "<div>\n",
       "<style scoped>\n",
       "    .dataframe tbody tr th:only-of-type {\n",
       "        vertical-align: middle;\n",
       "    }\n",
       "\n",
       "    .dataframe tbody tr th {\n",
       "        vertical-align: top;\n",
       "    }\n",
       "\n",
       "    .dataframe thead th {\n",
       "        text-align: right;\n",
       "    }\n",
       "</style>\n",
       "<table border=\"1\" class=\"dataframe\">\n",
       "  <thead>\n",
       "    <tr style=\"text-align: right;\">\n",
       "      <th></th>\n",
       "      <th>Resturant</th>\n",
       "      <th>Avg_rating</th>\n",
       "    </tr>\n",
       "  </thead>\n",
       "  <tbody>\n",
       "    <tr>\n",
       "      <th>0</th>\n",
       "      <td>#FeelTheROLL</td>\n",
       "      <td>3.400</td>\n",
       "    </tr>\n",
       "    <tr>\n",
       "      <th>1</th>\n",
       "      <td>#L-81 Cafe</td>\n",
       "      <td>3.900</td>\n",
       "    </tr>\n",
       "    <tr>\n",
       "      <th>2</th>\n",
       "      <td>#refuel</td>\n",
       "      <td>3.700</td>\n",
       "    </tr>\n",
       "    <tr>\n",
       "      <th>3</th>\n",
       "      <td>1000 B.C</td>\n",
       "      <td>3.200</td>\n",
       "    </tr>\n",
       "    <tr>\n",
       "      <th>4</th>\n",
       "      <td>100ÃÂÃÂÃÂÃÂÃÂÃÂÃÂÃÂ°C</td>\n",
       "      <td>3.700</td>\n",
       "    </tr>\n",
       "    <tr>\n",
       "      <th>5</th>\n",
       "      <td>11 to 11 Express Biriyanis</td>\n",
       "      <td>3.500</td>\n",
       "    </tr>\n",
       "    <tr>\n",
       "      <th>6</th>\n",
       "      <td>1131 Bar + Kitchen</td>\n",
       "      <td>4.500</td>\n",
       "    </tr>\n",
       "    <tr>\n",
       "      <th>7</th>\n",
       "      <td>12th Main - Grand Mercure</td>\n",
       "      <td>4.100</td>\n",
       "    </tr>\n",
       "    <tr>\n",
       "      <th>8</th>\n",
       "      <td>1441 Pizzeria</td>\n",
       "      <td>4.100</td>\n",
       "    </tr>\n",
       "    <tr>\n",
       "      <th>9</th>\n",
       "      <td>1522 - The Pub</td>\n",
       "      <td>4.212</td>\n",
       "    </tr>\n",
       "  </tbody>\n",
       "</table>\n",
       "</div>"
      ],
      "text/plain": [
       "                              Resturant  Avg_rating\n",
       "0                          #FeelTheROLL       3.400\n",
       "1                            #L-81 Cafe       3.900\n",
       "2                               #refuel       3.700\n",
       "3                              1000 B.C       3.200\n",
       "4  100ÃÂÃÂÃÂÃÂÃÂÃÂÃÂÃÂ°C       3.700\n",
       "5            11 to 11 Express Biriyanis       3.500\n",
       "6                    1131 Bar + Kitchen       4.500\n",
       "7             12th Main - Grand Mercure       4.100\n",
       "8                         1441 Pizzeria       4.100\n",
       "9                        1522 - The Pub       4.212"
      ]
     },
     "execution_count": 45,
     "metadata": {},
     "output_type": "execute_result"
    }
   ],
   "source": [
    "df_rate.head(10)"
   ]
  },
  {
   "cell_type": "code",
   "execution_count": 104,
   "id": "b9252898",
   "metadata": {},
   "outputs": [],
   "source": [
    "# Plotting the table in matplotlib & seaborn for distrubution"
   ]
  },
  {
   "cell_type": "code",
   "execution_count": 46,
   "id": "b1e5ebf4",
   "metadata": {},
   "outputs": [
    {
     "data": {
      "text/plain": [
       "<AxesSubplot:xlabel='Avg_rating', ylabel='Count'>"
      ]
     },
     "execution_count": 46,
     "metadata": {},
     "output_type": "execute_result"
    },
    {
     "data": {
      "image/png": "[encoded data removed]",
      "text/plain": [
       "<Figure size 432x288 with 1 Axes>"
      ]
     },
     "metadata": {
      "needs_background": "light"
     },
     "output_type": "display_data"
    }
   ],
   "source": [
    "sns.histplot(df_rate['Avg_rating'])"
   ]
  },
  {
   "cell_type": "code",
   "execution_count": 47,
   "id": "3ab535db",
   "metadata": {},
   "outputs": [
    {
     "name": "stderr",
     "output_type": "stream",
     "text": [
      "C:\\Users\\Dell\\.conda\\envs\\rstudio\\lib\\site-packages\\seaborn\\distributions.py:2619: FutureWarning: `distplot` is a deprecated function and will be removed in a future version. Please adapt your code to use either `displot` (a figure-level function with similar flexibility) or `histplot` (an axes-level function for histograms).\n",
      "  warnings.warn(msg, FutureWarning)\n"
     ]
    },
    {
     "data": {
      "text/plain": [
       "<AxesSubplot:xlabel='Avg_rating', ylabel='Density'>"
      ]
     },
     "execution_count": 47,
     "metadata": {},
     "output_type": "execute_result"
    },
    {
     "data": {
      "image/png": "[encoded data removed]",
      "text/plain": [
       "<Figure size 432x288 with 1 Axes>"
      ]
     },
     "metadata": {
      "needs_background": "light"
     },
     "output_type": "display_data"
    }
   ],
   "source": [
    "sns.distplot(df_rate['Avg_rating'])"
   ]
  },
  {
   "cell_type": "code",
   "execution_count": 117,
   "id": "4b840d00",
   "metadata": {},
   "outputs": [],
   "source": [
    "# To find Top resturant chains in Banglore"
   ]
  },
  {
   "cell_type": "code",
   "execution_count": 48,
   "id": "4fdfebe7",
   "metadata": {},
   "outputs": [
    {
     "data": {
      "text/plain": [
       "Text(0, 0.5, 'Name of restaurant chains')"
      ]
     },
     "execution_count": 48,
     "metadata": {},
     "output_type": "execute_result"
    },
    {
     "data": {
      "image/png": "[encoded data removed]",
      "text/plain": [
       "<Figure size 432x288 with 1 Axes>"
      ]
     },
     "metadata": {
      "needs_background": "light"
     },
     "output_type": "display_data"
    }
   ],
   "source": [
    "chains=df['name'].value_counts()[0:10]\n",
    "P=sns.barplot(x=chains,y=chains.index)\n",
    "P.set_title(\"Top restaurant chains in Banglore\")\n",
    "P.set_xlabel(\"Number of Outlet\")\n",
    "P.set_ylabel(\"Name of restaurant chains\")"
   ]
  },
  {
   "cell_type": "code",
   "execution_count": 153,
   "id": "fed726dd",
   "metadata": {},
   "outputs": [],
   "source": [
    "# Calculate how many restaurants accepts Online Order"
   ]
  },
  {
   "cell_type": "code",
   "execution_count": 49,
   "id": "b83db241",
   "metadata": {},
   "outputs": [
    {
     "data": {
      "text/plain": [
       "Yes    28308\n",
       "No     15634\n",
       "Name: online_order, dtype: int64"
      ]
     },
     "execution_count": 49,
     "metadata": {},
     "output_type": "execute_result"
    }
   ],
   "source": [
    "x=df['online_order'].value_counts()\n",
    "x"
   ]
  },
  {
   "cell_type": "code",
   "execution_count": 50,
   "id": "08b534e3",
   "metadata": {},
   "outputs": [
    {
     "data": {
      "text/plain": [
       "<function matplotlib.pyplot.show(close=None, block=None)>"
      ]
     },
     "execution_count": 50,
     "metadata": {},
     "output_type": "execute_result"
    },
    {
     "data": {
      "image/png": "[encoded data removed]",
      "text/plain": [
       "<Figure size 432x288 with 1 Axes>"
      ]
     },
     "metadata": {},
     "output_type": "display_data"
    }
   ],
   "source": [
    "x=df['online_order'].value_counts()\n",
    "labels=['accepted','not accepted']\n",
    "plt.pie(x,autopct='%1.1f%%')\n",
    "plt.show"
   ]
  },
  {
   "cell_type": "code",
   "execution_count": 264,
   "id": "95d9607d",
   "metadata": {},
   "outputs": [],
   "source": [
    "#What is the ratio b/w restaurants that provide and do not provide table booking ?"
   ]
  },
  {
   "cell_type": "code",
   "execution_count": 51,
   "id": "1169a66e",
   "metadata": {},
   "outputs": [
    {
     "data": {
      "text/plain": [
       "No     37509\n",
       "Yes     6433\n",
       "Name: book_table, dtype: int64"
      ]
     },
     "execution_count": 51,
     "metadata": {},
     "output_type": "execute_result"
    }
   ],
   "source": [
    "x=df['book_table'].value_counts()\n",
    "x"
   ]
  },
  {
   "cell_type": "code",
   "execution_count": 52,
   "id": "3678c1ac",
   "metadata": {},
   "outputs": [
    {
     "data": {
      "text/plain": [
       "<function matplotlib.pyplot.show(close=None, block=None)>"
      ]
     },
     "execution_count": 52,
     "metadata": {},
     "output_type": "execute_result"
    },
    {
     "data": {
      "image/png": "[encoded data removed]",
      "text/plain": [
       "<Figure size 432x288 with 1 Axes>"
      ]
     },
     "metadata": {},
     "output_type": "display_data"
    }
   ],
   "source": [
    "x=df['book_table'].value_counts()\n",
    "labels=['booked','not booked']\n",
    "plt.pie(x,labels=labels,autopct='%1.1f%%',\n",
    "       wedgeprops={'linewidth': 3.0, 'edgecolor': 'white'},\n",
    "       textprops={'size': 'x-large'})\n",
    "plt.show\n"
   ]
  },
  {
   "cell_type": "code",
   "execution_count": 307,
   "id": "d13a9f4f",
   "metadata": {},
   "outputs": [],
   "source": [
    "#Types of resturant  using seaborn"
   ]
  },
  {
   "cell_type": "code",
   "execution_count": 53,
   "id": "62cad4c1",
   "metadata": {},
   "outputs": [
    {
     "data": {
      "text/plain": [
       "151"
      ]
     },
     "execution_count": 53,
     "metadata": {},
     "output_type": "execute_result"
    }
   ],
   "source": [
    "df['rest_type'].isna().sum()"
   ]
  },
  {
   "cell_type": "code",
   "execution_count": 54,
   "id": "2ac84822",
   "metadata": {},
   "outputs": [],
   "source": [
    "df['rest_type'].dropna(inplace=True)"
   ]
  },
  {
   "cell_type": "code",
   "execution_count": 55,
   "id": "20f3aaed",
   "metadata": {},
   "outputs": [
    {
     "data": {
      "text/plain": [
       "0          Casual Dining\n",
       "1          Casual Dining\n",
       "2    Cafe, Casual Dining\n",
       "3            Quick Bites\n",
       "4          Casual Dining\n",
       "Name: rest_type, dtype: object"
      ]
     },
     "execution_count": 55,
     "metadata": {},
     "output_type": "execute_result"
    }
   ],
   "source": [
    "df['rest_type'].head()"
   ]
  },
  {
   "cell_type": "code",
   "execution_count": 56,
   "id": "cd8dfd6b",
   "metadata": {},
   "outputs": [
    {
     "data": {
      "text/plain": [
       "array(['Casual Dining', 'Cafe, Casual Dining', 'Quick Bites',\n",
       "       'Casual Dining, Cafe', 'Cafe', 'Quick Bites, Cafe',\n",
       "       'Cafe, Quick Bites', 'Delivery', 'Mess', 'Dessert Parlor',\n",
       "       'Bakery, Dessert Parlor', 'Pub', 'Bakery', 'Takeaway, Delivery',\n",
       "       'Fine Dining', 'Beverage Shop', 'Sweet Shop', 'Bar',\n",
       "       'Dessert Parlor, Sweet Shop', 'Bakery, Quick Bites',\n",
       "       'Sweet Shop, Quick Bites', 'Kiosk', 'Food Truck',\n",
       "       'Quick Bites, Dessert Parlor', 'Beverage Shop, Quick Bites',\n",
       "       'Beverage Shop, Dessert Parlor', 'Takeaway', 'Pub, Casual Dining',\n",
       "       'Casual Dining, Bar', 'Dessert Parlor, Beverage Shop',\n",
       "       'Quick Bites, Bakery', 'Microbrewery, Casual Dining', 'Lounge',\n",
       "       'Bar, Casual Dining', 'Food Court', 'Cafe, Bakery', nan, 'Dhaba',\n",
       "       'Quick Bites, Sweet Shop', 'Microbrewery',\n",
       "       'Food Court, Quick Bites', 'Quick Bites, Beverage Shop',\n",
       "       'Pub, Bar', 'Casual Dining, Pub', 'Lounge, Bar',\n",
       "       'Dessert Parlor, Quick Bites', 'Food Court, Dessert Parlor',\n",
       "       'Casual Dining, Sweet Shop', 'Food Court, Casual Dining',\n",
       "       'Casual Dining, Microbrewery', 'Lounge, Casual Dining',\n",
       "       'Cafe, Food Court', 'Beverage Shop, Cafe', 'Cafe, Dessert Parlor',\n",
       "       'Dessert Parlor, Cafe', 'Dessert Parlor, Bakery',\n",
       "       'Microbrewery, Pub', 'Bakery, Food Court', 'Club',\n",
       "       'Quick Bites, Food Court', 'Bakery, Cafe', 'Pub, Cafe',\n",
       "       'Casual Dining, Irani Cafee', 'Fine Dining, Lounge',\n",
       "       'Bar, Quick Bites', 'Confectionery', 'Pub, Microbrewery',\n",
       "       'Microbrewery, Lounge', 'Fine Dining, Microbrewery',\n",
       "       'Fine Dining, Bar', 'Dessert Parlor, Kiosk', 'Bhojanalya',\n",
       "       'Casual Dining, Quick Bites', 'Cafe, Bar', 'Casual Dining, Lounge',\n",
       "       'Bakery, Beverage Shop', 'Microbrewery, Bar', 'Cafe, Lounge',\n",
       "       'Bar, Pub', 'Lounge, Cafe', 'Club, Casual Dining',\n",
       "       'Quick Bites, Mess', 'Quick Bites, Meat Shop',\n",
       "       'Quick Bites, Kiosk', 'Lounge, Microbrewery',\n",
       "       'Food Court, Beverage Shop', 'Dessert Parlor, Food Court',\n",
       "       'Bar, Lounge'], dtype=object)"
      ]
     },
     "execution_count": 56,
     "metadata": {},
     "output_type": "execute_result"
    }
   ],
   "source": [
    "df['rest_type'].unique()"
   ]
  },
  {
   "cell_type": "code",
   "execution_count": 57,
   "id": "c4008842",
   "metadata": {},
   "outputs": [
    {
     "data": {
      "text/plain": [
       "88"
      ]
     },
     "execution_count": 57,
     "metadata": {},
     "output_type": "execute_result"
    }
   ],
   "source": [
    "len(df['rest_type'].unique())"
   ]
  },
  {
   "cell_type": "code",
   "execution_count": 58,
   "id": "d87cd69b",
   "metadata": {},
   "outputs": [
    {
     "data": {
      "text/plain": [
       "Quick Bites                   15073\n",
       "Casual Dining                  9923\n",
       "Cafe                           3527\n",
       "Dessert Parlor                 1939\n",
       "Delivery                       1791\n",
       "                              ...  \n",
       "Bakery, Food Court                2\n",
       "Food Court, Beverage Shop         2\n",
       "Dessert Parlor, Food Court        2\n",
       "Dessert Parlor, Kiosk             2\n",
       "Quick Bites, Kiosk                1\n",
       "Name: rest_type, Length: 87, dtype: int64"
      ]
     },
     "execution_count": 58,
     "metadata": {},
     "output_type": "execute_result"
    }
   ],
   "source": [
    "x=df['rest_type'].value_counts()\n",
    "x"
   ]
  },
  {
   "cell_type": "code",
   "execution_count": 59,
   "id": "56f42ce3",
   "metadata": {},
   "outputs": [
    {
     "data": {
      "text/plain": [
       "<function matplotlib.pyplot.show(close=None, block=None)>"
      ]
     },
     "execution_count": 59,
     "metadata": {},
     "output_type": "execute_result"
    },
    {
     "data": {
      "image/png": "[encoded data removed]",
      "text/plain": [
       "<Figure size 432x288 with 1 Axes>"
      ]
     },
     "metadata": {
      "needs_background": "light"
     },
     "output_type": "display_data"
    }
   ],
   "source": [
    "chains=df['rest_type'].value_counts()[0:10]\n",
    "P=sns.barplot(x=chains,y=chains.index)\n",
    "P.set_title(\"Types of resturant in Banglore\")\n",
    "P.set_xlabel(\"Number of Outlet\")\n",
    "P.set_ylabel(\"Types of resturant\")\n",
    "plt.show"
   ]
  },
  {
   "cell_type": "code",
   "execution_count": 60,
   "id": "e05f0462",
   "metadata": {},
   "outputs": [
    {
     "data": {
      "image/png": "[encoded data removed]",
      "text/plain": [
       "<Figure size 720x360 with 1 Axes>"
      ]
     },
     "metadata": {
      "needs_background": "light"
     },
     "output_type": "display_data"
    }
   ],
   "source": [
    "plt.figure(figsize=(10,5))\n",
    "chains=df['rest_type'].value_counts()[0:10]\n",
    "P=sns.barplot(x=chains.index,y=chains)\n",
    "P.set_title(\"Types of resturant in Banglore\")\n",
    "P.set_xlabel(\"Types of resturant\")\n",
    "P.set_ylabel(\"Number of Outlet\")\n",
    "plt.xticks(rotation='vertical')\n",
    "plt.show()"
   ]
  },
  {
   "cell_type": "code",
   "execution_count": 371,
   "id": "ff150e83",
   "metadata": {},
   "outputs": [],
   "source": [
    "#highest voted restaurant\n"
   ]
  },
  {
   "cell_type": "code",
   "execution_count": 62,
   "id": "060c1e36",
   "metadata": {},
   "outputs": [
    {
     "data": {
      "text/plain": [
       "<AxesSubplot:xlabel='name'>"
      ]
     },
     "execution_count": 62,
     "metadata": {},
     "output_type": "execute_result"
    },
    {
     "data": {
      "image/png": "[encoded data removed]",
      "text/plain": [
       "<Figure size 432x288 with 1 Axes>"
      ]
     },
     "metadata": {
      "needs_background": "light"
     },
     "output_type": "display_data"
    }
   ],
   "source": [
    "df.groupby('name')['votes'].max().nlargest(10).plot.bar()"
   ]
  },
  {
   "cell_type": "code",
   "execution_count": 64,
   "id": "1ded3317",
   "metadata": {},
   "outputs": [],
   "source": [
    "#Total restaurant at diffrent location at Banglore"
   ]
  },
  {
   "cell_type": "code",
   "execution_count": 67,
   "id": "2421c6e8",
   "metadata": {},
   "outputs": [],
   "source": [
    "restaurant=[]\n",
    "location=[]\n",
    "for key,location_df in df.groupby('location'):\n",
    "    location.append(key)\n",
    "    restaurant.append(len(location_df['name'].unique()))"
   ]
  },
  {
   "cell_type": "code",
   "execution_count": 74,
   "id": "3c143584",
   "metadata": {},
   "outputs": [
    {
     "data": {
      "text/html": [
       "<div>\n",
       "<style scoped>\n",
       "    .dataframe tbody tr th:only-of-type {\n",
       "        vertical-align: middle;\n",
       "    }\n",
       "\n",
       "    .dataframe tbody tr th {\n",
       "        vertical-align: top;\n",
       "    }\n",
       "\n",
       "    .dataframe thead th {\n",
       "        text-align: right;\n",
       "    }\n",
       "</style>\n",
       "<table border=\"1\" class=\"dataframe\">\n",
       "  <thead>\n",
       "    <tr style=\"text-align: right;\">\n",
       "      <th></th>\n",
       "      <th>location</th>\n",
       "      <th>restaurant</th>\n",
       "    </tr>\n",
       "  </thead>\n",
       "  <tbody>\n",
       "    <tr>\n",
       "      <th>0</th>\n",
       "      <td>BTM</td>\n",
       "      <td>581</td>\n",
       "    </tr>\n",
       "    <tr>\n",
       "      <th>1</th>\n",
       "      <td>Banashankari</td>\n",
       "      <td>238</td>\n",
       "    </tr>\n",
       "    <tr>\n",
       "      <th>2</th>\n",
       "      <td>Banaswadi</td>\n",
       "      <td>151</td>\n",
       "    </tr>\n",
       "    <tr>\n",
       "      <th>3</th>\n",
       "      <td>Bannerghatta Road</td>\n",
       "      <td>362</td>\n",
       "    </tr>\n",
       "    <tr>\n",
       "      <th>4</th>\n",
       "      <td>Basavanagudi</td>\n",
       "      <td>195</td>\n",
       "    </tr>\n",
       "  </tbody>\n",
       "</table>\n",
       "</div>"
      ],
      "text/plain": [
       "            location  restaurant\n",
       "0                BTM         581\n",
       "1       Banashankari         238\n",
       "2          Banaswadi         151\n",
       "3  Bannerghatta Road         362\n",
       "4       Basavanagudi         195"
      ]
     },
     "execution_count": 74,
     "metadata": {},
     "output_type": "execute_result"
    }
   ],
   "source": [
    "df_total=pd.DataFrame(zip(location,restaurant))\n",
    "df_total.columns=['location','restaurant']\n",
    "df_total.head()"
   ]
  },
  {
   "cell_type": "code",
   "execution_count": 75,
   "id": "163b3648",
   "metadata": {},
   "outputs": [
    {
     "data": {
      "text/html": [
       "<div>\n",
       "<style scoped>\n",
       "    .dataframe tbody tr th:only-of-type {\n",
       "        vertical-align: middle;\n",
       "    }\n",
       "\n",
       "    .dataframe tbody tr th {\n",
       "        vertical-align: top;\n",
       "    }\n",
       "\n",
       "    .dataframe thead th {\n",
       "        text-align: right;\n",
       "    }\n",
       "</style>\n",
       "<table border=\"1\" class=\"dataframe\">\n",
       "  <thead>\n",
       "    <tr style=\"text-align: right;\">\n",
       "      <th></th>\n",
       "      <th>restaurant</th>\n",
       "    </tr>\n",
       "    <tr>\n",
       "      <th>location</th>\n",
       "      <th></th>\n",
       "    </tr>\n",
       "  </thead>\n",
       "  <tbody>\n",
       "    <tr>\n",
       "      <th>BTM</th>\n",
       "      <td>581</td>\n",
       "    </tr>\n",
       "    <tr>\n",
       "      <th>Banashankari</th>\n",
       "      <td>238</td>\n",
       "    </tr>\n",
       "    <tr>\n",
       "      <th>Banaswadi</th>\n",
       "      <td>151</td>\n",
       "    </tr>\n",
       "    <tr>\n",
       "      <th>Bannerghatta Road</th>\n",
       "      <td>362</td>\n",
       "    </tr>\n",
       "    <tr>\n",
       "      <th>Basavanagudi</th>\n",
       "      <td>195</td>\n",
       "    </tr>\n",
       "  </tbody>\n",
       "</table>\n",
       "</div>"
      ],
      "text/plain": [
       "                   restaurant\n",
       "location                     \n",
       "BTM                       581\n",
       "Banashankari              238\n",
       "Banaswadi                 151\n",
       "Bannerghatta Road         362\n",
       "Basavanagudi              195"
      ]
     },
     "execution_count": 75,
     "metadata": {},
     "output_type": "execute_result"
    }
   ],
   "source": [
    "df_total.set_index('location', inplace= True)\n",
    "df_total.head()"
   ]
  },
  {
   "cell_type": "code",
   "execution_count": 89,
   "id": "288a4cbb",
   "metadata": {},
   "outputs": [
    {
     "data": {
      "text/plain": [
       "<AxesSubplot:xlabel='location'>"
      ]
     },
     "execution_count": 89,
     "metadata": {},
     "output_type": "execute_result"
    },
    {
     "data": {
      "image/png": "[encoded data removed]",
      "text/plain": [
       "<Figure size 432x288 with 1 Axes>"
      ]
     },
     "metadata": {
      "needs_background": "light"
     },
     "output_type": "display_data"
    }
   ],
   "source": [
    "df_total.sort_values(by='restaurant').tail(10).plot.bar()"
   ]
  },
  {
   "cell_type": "code",
   "execution_count": 92,
   "id": "fdf0ed8e",
   "metadata": {},
   "outputs": [],
   "source": [
    "#Analyse cost for two person and find relationship with rating of the resutrants\n"
   ]
  },
  {
   "cell_type": "code",
   "execution_count": 93,
   "id": "29b9e55a",
   "metadata": {},
   "outputs": [
    {
     "data": {
      "text/plain": [
       "Index(['url', 'address', 'name', 'online_order', 'book_table', 'rate', 'votes',\n",
       "       'phone', 'location', 'rest_type', 'dish_liked', 'cuisines',\n",
       "       'approx_cost(for two people)', 'reviews_list', 'menu_item',\n",
       "       'listed_in(type)', 'listed_in(city)'],\n",
       "      dtype='object')"
      ]
     },
     "execution_count": 93,
     "metadata": {},
     "output_type": "execute_result"
    }
   ],
   "source": [
    "df.columns"
   ]
  },
  {
   "cell_type": "code",
   "execution_count": 95,
   "id": "c3fd29f5",
   "metadata": {},
   "outputs": [
    {
     "data": {
      "text/plain": [
       "252"
      ]
     },
     "execution_count": 95,
     "metadata": {},
     "output_type": "execute_result"
    }
   ],
   "source": [
    "df['approx_cost(for two people)'].isna().sum()"
   ]
  },
  {
   "cell_type": "code",
   "execution_count": 99,
   "id": "148c1bb1",
   "metadata": {},
   "outputs": [],
   "source": [
    "df.dropna(axis='index', subset=['approx_cost(for two people)'], inplace= True)"
   ]
  },
  {
   "cell_type": "code",
   "execution_count": 101,
   "id": "ce3e4645",
   "metadata": {},
   "outputs": [
    {
     "data": {
      "text/plain": [
       "dtype('O')"
      ]
     },
     "execution_count": 101,
     "metadata": {},
     "output_type": "execute_result"
    }
   ],
   "source": [
    "df['approx_cost(for two people)'].dtype\n"
   ]
  },
  {
   "cell_type": "code",
   "execution_count": 102,
   "id": "410e4610",
   "metadata": {},
   "outputs": [
    {
     "data": {
      "text/plain": [
       "array(['800', '300', '600', '700', '550', '500', '450', '650', '400',\n",
       "       '900', '200', '750', '150', '850', '100', '1,200', '350', '250',\n",
       "       '950', '1,000', '1,500', '1,300', '199', '80', '1,100', '160',\n",
       "       '1,600', '230', '130', '1,700', '1,400', '1,350', '2,200', '2,000',\n",
       "       '1,800', '1,900', '180', '330', '2,500', '2,100', '3,000', '2,800',\n",
       "       '3,400', '50', '40', '1,250', '3,500', '4,000', '2,400', '2,600',\n",
       "       '1,450', '70', '3,200', '560', '240', '360', '6,000', '1,050',\n",
       "       '2,300', '4,100', '120', '5,000', '3,700', '1,650', '2,700',\n",
       "       '4,500'], dtype=object)"
      ]
     },
     "execution_count": 102,
     "metadata": {},
     "output_type": "execute_result"
    }
   ],
   "source": [
    "df['approx_cost(for two people)'].unique()"
   ]
  },
  {
   "cell_type": "code",
   "execution_count": 107,
   "id": "634bbee1",
   "metadata": {},
   "outputs": [],
   "source": [
    "df['approx_cost(for two people)']=df['approx_cost(for two people)'].apply(lambda x: x.replace(',', ''))"
   ]
  },
  {
   "cell_type": "code",
   "execution_count": 109,
   "id": "ae8f5000",
   "metadata": {},
   "outputs": [
    {
     "data": {
      "text/plain": [
       "array(['800', '300', '600', '700', '550', '500', '450', '650', '400',\n",
       "       '900', '200', '750', '150', '850', '100', '1200', '350', '250',\n",
       "       '950', '1000', '1500', '1300', '199', '80', '1100', '160', '1600',\n",
       "       '230', '130', '1700', '1400', '1350', '2200', '2000', '1800',\n",
       "       '1900', '180', '330', '2500', '2100', '3000', '2800', '3400', '50',\n",
       "       '40', '1250', '3500', '4000', '2400', '2600', '1450', '70', '3200',\n",
       "       '560', '240', '360', '6000', '1050', '2300', '4100', '120', '5000',\n",
       "       '3700', '1650', '2700', '4500'], dtype=object)"
      ]
     },
     "execution_count": 109,
     "metadata": {},
     "output_type": "execute_result"
    }
   ],
   "source": [
    "df['approx_cost(for two people)'].unique()"
   ]
  },
  {
   "cell_type": "code",
   "execution_count": 111,
   "id": "55a52fcc",
   "metadata": {},
   "outputs": [],
   "source": [
    "df['approx_cost(for two people)']=df['approx_cost(for two people)'].astype(int)"
   ]
  },
  {
   "cell_type": "code",
   "execution_count": 113,
   "id": "3ca1f2c3",
   "metadata": {},
   "outputs": [
    {
     "data": {
      "text/plain": [
       "dtype('int32')"
      ]
     },
     "execution_count": 113,
     "metadata": {},
     "output_type": "execute_result"
    }
   ],
   "source": [
    "df['approx_cost(for two people)'].dtype"
   ]
  },
  {
   "cell_type": "code",
   "execution_count": 115,
   "id": "cc91c76f",
   "metadata": {},
   "outputs": [
    {
     "name": "stderr",
     "output_type": "stream",
     "text": [
      "C:\\Users\\Dell\\.conda\\envs\\rstudio\\lib\\site-packages\\seaborn\\distributions.py:2619: FutureWarning: `distplot` is a deprecated function and will be removed in a future version. Please adapt your code to use either `displot` (a figure-level function with similar flexibility) or `histplot` (an axes-level function for histograms).\n",
      "  warnings.warn(msg, FutureWarning)\n"
     ]
    },
    {
     "data": {
      "text/plain": [
       "<AxesSubplot:xlabel='approx_cost(for two people)', ylabel='Density'>"
      ]
     },
     "execution_count": 115,
     "metadata": {},
     "output_type": "execute_result"
    },
    {
     "data": {
      "image/png": "[encoded data removed]",
      "text/plain": [
       "<Figure size 432x288 with 1 Axes>"
      ]
     },
     "metadata": {
      "needs_background": "light"
     },
     "output_type": "display_data"
    }
   ],
   "source": [
    "sns.distplot(df['approx_cost(for two people)'])"
   ]
  },
  {
   "cell_type": "code",
   "execution_count": 117,
   "id": "b370e338",
   "metadata": {},
   "outputs": [
    {
     "data": {
      "text/plain": [
       "<AxesSubplot:xlabel='rate', ylabel='approx_cost(for two people)'>"
      ]
     },
     "execution_count": 117,
     "metadata": {},
     "output_type": "execute_result"
    },
    {
     "data": {
      "image/png": "[encoded data removed]",
      "text/plain": [
       "<Figure size 432x288 with 1 Axes>"
      ]
     },
     "metadata": {
      "needs_background": "light"
     },
     "output_type": "display_data"
    }
   ],
   "source": [
    "sns.scatterplot(x='rate',y='approx_cost(for two people)',hue='online_order',data=df)"
   ]
  },
  {
   "cell_type": "code",
   "execution_count": 120,
   "id": "38a3d0b6",
   "metadata": {},
   "outputs": [
    {
     "data": {
      "text/plain": [
       "<AxesSubplot:xlabel='online_order', ylabel='votes'>"
      ]
     },
     "execution_count": 120,
     "metadata": {},
     "output_type": "execute_result"
    },
    {
     "data": {
      "image/png": "[encoded data removed]",
      "text/plain": [
       "<Figure size 432x288 with 1 Axes>"
      ]
     },
     "metadata": {
      "needs_background": "light"
     },
     "output_type": "display_data"
    }
   ],
   "source": [
    "sns.boxplot(x='online_order',y='votes',data=df)"
   ]
  },
  {
   "cell_type": "code",
   "execution_count": 121,
   "id": "3b2a581d",
   "metadata": {},
   "outputs": [],
   "source": [
    "# Total restaurant that have rating >4 and that are budget too less than 400 for cost of two"
   ]
  },
  {
   "cell_type": "code",
   "execution_count": 124,
   "id": "0c492f20",
   "metadata": {},
   "outputs": [
    {
     "data": {
      "text/plain": [
       "(1713, 17)"
      ]
     },
     "execution_count": 124,
     "metadata": {},
     "output_type": "execute_result"
    }
   ],
   "source": [
    "df[(df['rate']>4) & (df['approx_cost(for two people)']<=400)].shape"
   ]
  },
  {
   "cell_type": "code",
   "execution_count": 128,
   "id": "5bc15417",
   "metadata": {},
   "outputs": [
    {
     "data": {
      "text/plain": [
       "array(['Shree Cool Point', 'Corner House Ice Cream', 'Kabab Magic',\n",
       "       'The Biryani Cafe', 'Sri Guru Kottureshwara Davangere Benne Dosa',\n",
       "       'Frozen Bottle', 'Bengaluru Coffee House',\n",
       "       'The Blue Wagon - Kitchen', 'HOT COFFEE',\n",
       "       'Dev Sagar - Food Street', 'Shakes Theory', \"Kedia's Fun Food\",\n",
       "       'Mini Punjabi Dhaba', 'Cool Corner', 'Mystique Palate',\n",
       "       'Karma Kaapi', 'The Lassi Park', 'South Kitchen',\n",
       "       'Prems Graama Bhojanam', 'Puliyogare Point', 'Udupi Ruchi Grand',\n",
       "       'Chai Kraft', 'Karnataka Bhel House', 'Sreeraj Lassi Bar',\n",
       "       'Ayodhya Upachar', 'Poonam Sweets', 'Taaza Thindi',\n",
       "       'Sri Laxmi Venkateshwara Coffee Bar', 'SLV Refreshment',\n",
       "       'Ranganna Military Hotel', 'Vidyarthi Bhavan', 'Hotel Dwarka',\n",
       "       'Upahara Darshini', 'Mahalaxmi Tiffin Room', 'Easy Bites',\n",
       "       'XO Belgian Waffle', 'Swadista Aahar', 'Litti Twist',\n",
       "       'A2B - Adyar Ananda Bhavan', 'The Shawarma Shop',\n",
       "       'Amritsari Kulcha Land', 'Gorbandh', 'Yum In My Tum', 'Momo Jojo',\n",
       "       'Cravy Wings', 'Dakshin Cafe', 'Drunken Monkey',\n",
       "       'Natural Ice Cream', 'Anand Sweets and Savouries', 'Dream a Dozen',\n",
       "       'Chaatimes', 'Checkpost', 'Rooftop Cafe', 'Dr. Bubbles',\n",
       "       'Mysuru Coffee Thindi', 'Just Shawarma', 'Tummy Fuel',\n",
       "       'Rajanna Military Hotel', 'Ice Cream Works',\n",
       "       'Bubblewrap Waffle Co.', 'Waffle Stories', 'Pop Hop',\n",
       "       'Hari Super Sandwich', 'By 2 Coffee', 'Davangere Benna Dose Hotel',\n",
       "       \"Polamma's Mess\", 'Mane Holige', 'V B Bakery', 'Milano Ice Cream',\n",
       "       'Cool Joint', 'Apsara Ice Cream', 'Mavalli Tiffin Room (MTR)',\n",
       "       \"Brahmin's Coffee Bar\", 'New Modern Hotel', 'Hotel Janatha',\n",
       "       'Halli Jonne Biriyani', 'Bengaluru Cafe',\n",
       "       'Brahmin Tiffins & Coffee', \"Iyengar's Inn\", 'Chaai Resto',\n",
       "       'The Paratha Company', 'nu.tree', 'Shudh', 'Maa Bhook Lagi',\n",
       "       'The Flying Cup', 'The Kebab House', 'Poha On Wheels',\n",
       "       'Parrattha Ssinghh', 'Deli Chats and Sweets',\n",
       "       'The Belgian Waffle Co.', \"Pabrai's Fresh & Naturelle Icecreams\",\n",
       "       'Anand Sweets And Savouries', 'Polar Bear',\n",
       "       'Japan Travel Cafe Azuki', 'eat.fit', 'Sri Ganesh Juice Junction',\n",
       "       'Chai Point', 'Belgian Waffle Factory', 'Shanthi Sagar',\n",
       "       'The Good Grain', 'The Waffle Press', 'Hotel Ramprasad',\n",
       "       'Kitchen of Joy', 'Mama Mia!', \"Kartik's Mithai Shoppe\",\n",
       "       '99 Pancakes', 'Amande Patisserie', 'Northern Route',\n",
       "       'Step Right Up', 'Brownie Heaven',\n",
       "       'GMT - Gelateria Montecatini Terme', \"L'inoui\", 'Manjit Da Dhaba',\n",
       "       'Art of Delight', 'Khazana Food Paradise', 'IceBreakers',\n",
       "       \"Indy's Comfort Food\", \"Thom's Bakery\", 'MTR 1924',\n",
       "       'Siddiqu Kabab Center', 'Siddappa Hotel', 'Chikkanna Tiffin Room',\n",
       "       'Breads and Banter', 'Chai Galli', 'BITEBOX', 'Kanti Sweets',\n",
       "       \"Dock Frost'd\", 'Foodism', 'HOMMS', 'Chatpatlal Sweets & Snacks',\n",
       "       'Stonelicious', 'Cold Stone Creamery', 'Punjabi Twist',\n",
       "       'Chaat Street', 'Bobacha', 'Masala Chai', 'Real Fresh Dosa Corner',\n",
       "       'Sai Foods', 'Puchkas', 'Kaafi Desi', 'The London Shakes',\n",
       "       'Rolls & Bowls', 'Not Just Waffles', 'Happy Endings',\n",
       "       'Fabindia Cafe', 'Kalmane Koffees', 'Khatta Meetha Teekha',\n",
       "       'Fish Chain', \"Muthashy's\", 'Ambur Biryani Point',\n",
       "       'Swad Punjab Da', 'Kota Kachori', 'Shree Muthahalli Veg',\n",
       "       'CakeZone', 'Mumbai Tiffin', 'Podi Idly', 'Hotel Salam',\n",
       "       'ONE IN A MELON', 'The Pancake Story', 'ReFresh Juice Junction',\n",
       "       'Occasions', 'Tapri By The Corner', 'The Mylapore Cafe',\n",
       "       'Bite Me Cupcakes', 'Makers of Milkshakes', 'The Waffles Hut',\n",
       "       'Aligarh House', 'EggFactor - Street House', 'Birinz',\n",
       "       'Sulemani Chichas', '30 Square', 'Sree Krishna Kafe',\n",
       "       \"Jose's Mess\", 'Shuddh Desi Khana', 'Chaska Bun', 'Asha Tiffins',\n",
       "       'Ooty Chocolates', 'WAFL Co', 'Tall Blonde French',\n",
       "       'Habibi Falafel', \"Noon's\", 'The Marash', 'Gods Own Cafe',\n",
       "       'Rollin', \"Berry'd Alive\", 'Khawa Karpo', 'California Burrito',\n",
       "       'Samosa Party', 'The ThickShake Factory', \"Amma's Pastries\",\n",
       "       'Choco Cheese', 'Tempteys', 'Kurtoskalacs', 'BelgYum',\n",
       "       'Krispy Kreme', 'Baskin Robbins', 'Lassi Shop', 'Frolic',\n",
       "       \"Domino's Pizza\", 'IDC Kitchen', 'Atta Galata', 'SLV Restaurant',\n",
       "       'Donne Biriyani House', 'Popular Burger', 'Happy Belly Bakes',\n",
       "       'Al Amanah Cafe', \"Sanky's Burger House\", 'Asha Sweets Center',\n",
       "       'The Sugar Fairy', 'Belly Deli', 'Albert Bakery',\n",
       "       'Bombay Chowpaty Kulfi', 'Cupcake Noggins', 'TRUE BLEU RESTO CAFE',\n",
       "       'Amrutha Sweets', 'Raghavendra Tiffin', 'Chai Days',\n",
       "       'Gobble Up Churros Cafe', 'Sri Udupi Park',\n",
       "       'Chandni Chowk 2 Bangalore', 'Dal Roti Sabji', 'Motis Kitchen',\n",
       "       'Cream Stone', 'Sabari Juice Junction', 'Cafe Grill',\n",
       "       'The Ganache Factory', \"Johny's Kitchen\", 'Raat Ki Rani',\n",
       "       'Tarbouche', 'Black Deer', 'Sri Venkateshwara Sweet Meat Stall',\n",
       "       'All Aromas', 'Roti Wala', 'Namma Banashankari Donne Biryani',\n",
       "       \"Anju's Cafe\", \"Biggies Burger 'n' More\", 'Matru Sagar', 'Sikori',\n",
       "       \"Brahmins' Thatte Idli\", 'Sangam Mess', 'Mugful Of Stories',\n",
       "       'The Filter Coffee', 'DVG Benne Dosa',\n",
       "       'Chocolat Boulangerie Patisserie', 'Shree Thali', 'Mooch Marod',\n",
       "       'Karahi Kitchen', 'Ibaco', 'Andhra Kitchen',\n",
       "       \"Gogula's Sweets & Chats\", \"Chetty's Corner\",\n",
       "       'Bombay Vada Pav Corner', 'Haji Ali Juice Centre',\n",
       "       'Taste Of Tibet', 'Lakshmi Natraja Refreshments',\n",
       "       'Mudde Madappa Mess', 'Aubree', 'Malleshwaram Dosa Corner',\n",
       "       'New Agarwal Bhavan', 'Savi Sagar',\n",
       "       'Bhairaveshwara Military Hotel', 'CTR', 'Patiala Lassi',\n",
       "       'Halli Mane Donne Biriyani', 'Upsouth', 'Churn', 'Veena Stores',\n",
       "       'Iyer Mess', 'Kitchen Katta', 'Asha Sweets Centre',\n",
       "       'Amrith Ice Cream', 'Oh So Stoned!', 'O.G. Variar & Sons',\n",
       "       'Holige Mane', 'New Krishna Bhavan', 'Namma Kudla',\n",
       "       \"Sri Sai Ram's\", \"Sri Sairam's Chats and Juice\", 'HVR Veg',\n",
       "       'Hotel Nalapaka', 'Hotel Janardhan', '9D Foods',\n",
       "       'Artinci Artisanal Ice Cream', 'Udupi Vaibhav', 'Delhi Mess',\n",
       "       'The Waffle Yard', 'The Rolling Pin', 'Hotel Aditya',\n",
       "       \"Dad's Cookhouse\", 'Captain Egg', 'Karachi Bakery'], dtype=object)"
      ]
     },
     "execution_count": 128,
     "metadata": {},
     "output_type": "execute_result"
    }
   ],
   "source": [
    "df[(df['rate']>4) & (df['approx_cost(for two people)']<=400)]['name'].unique()"
   ]
  },
  {
   "cell_type": "code",
   "execution_count": 130,
   "id": "d413737c",
   "metadata": {},
   "outputs": [
    {
     "data": {
      "text/plain": [
       "291"
      ]
     },
     "execution_count": 130,
     "metadata": {},
     "output_type": "execute_result"
    }
   ],
   "source": [
    "len(df[(df['rate']>4) & (df['approx_cost(for two people)']<=400)]['name'].unique())"
   ]
  },
  {
   "cell_type": "code",
   "execution_count": 135,
   "id": "e4c232fc",
   "metadata": {},
   "outputs": [
    {
     "data": {
      "text/html": [
       "<div>\n",
       "<style scoped>\n",
       "    .dataframe tbody tr th:only-of-type {\n",
       "        vertical-align: middle;\n",
       "    }\n",
       "\n",
       "    .dataframe tbody tr th {\n",
       "        vertical-align: top;\n",
       "    }\n",
       "\n",
       "    .dataframe thead th {\n",
       "        text-align: right;\n",
       "    }\n",
       "</style>\n",
       "<table border=\"1\" class=\"dataframe\">\n",
       "  <thead>\n",
       "    <tr style=\"text-align: right;\">\n",
       "      <th></th>\n",
       "      <th>url</th>\n",
       "      <th>address</th>\n",
       "      <th>name</th>\n",
       "      <th>online_order</th>\n",
       "      <th>book_table</th>\n",
       "      <th>rate</th>\n",
       "      <th>votes</th>\n",
       "      <th>phone</th>\n",
       "      <th>location</th>\n",
       "      <th>rest_type</th>\n",
       "      <th>dish_liked</th>\n",
       "      <th>cuisines</th>\n",
       "      <th>approx_cost(for two people)</th>\n",
       "      <th>reviews_list</th>\n",
       "      <th>menu_item</th>\n",
       "      <th>listed_in(type)</th>\n",
       "      <th>listed_in(city)</th>\n",
       "    </tr>\n",
       "  </thead>\n",
       "  <tbody>\n",
       "    <tr>\n",
       "      <th>51</th>\n",
       "      <td>https://www.zomato.com/bangalore/shree-cool-po...</td>\n",
       "      <td>1514, 4th Cross, 7th Main, RPC layout, 2nd Sta...</td>\n",
       "      <td>Shree Cool Point</td>\n",
       "      <td>Yes</td>\n",
       "      <td>No</td>\n",
       "      <td>4.1</td>\n",
       "      <td>28</td>\n",
       "      <td>+91 9900617124</td>\n",
       "      <td>Vijay Nagar</td>\n",
       "      <td>Quick Bites</td>\n",
       "      <td>NaN</td>\n",
       "      <td>Fast Food, Street Food, Beverages</td>\n",
       "      <td>150</td>\n",
       "      <td>[('Rated 5.0', 'RATED\\n  Who would say no to s...</td>\n",
       "      <td>['Vegetable Sandwich', 'Vegetable Sandwich wit...</td>\n",
       "      <td>Delivery</td>\n",
       "      <td>Banashankari</td>\n",
       "    </tr>\n",
       "    <tr>\n",
       "      <th>52</th>\n",
       "      <td>https://www.zomato.com/bangalore/corner-house-...</td>\n",
       "      <td>808/6-1, 24th A Cross, K.R Road, 2nd Stage, Ba...</td>\n",
       "      <td>Corner House Ice Cream</td>\n",
       "      <td>No</td>\n",
       "      <td>No</td>\n",
       "      <td>4.3</td>\n",
       "      <td>345</td>\n",
       "      <td>080 26713965\\r\\n+91 9845444155</td>\n",
       "      <td>Banashankari</td>\n",
       "      <td>Dessert Parlor</td>\n",
       "      <td>Hot Chocolate Fudge, Vanilla Ice Cream, Fudge ...</td>\n",
       "      <td>Ice Cream, Desserts</td>\n",
       "      <td>400</td>\n",
       "      <td>[('Rated 3.0', \"RATED\\n  Always a fan of corne...</td>\n",
       "      <td>[]</td>\n",
       "      <td>Delivery</td>\n",
       "      <td>Banashankari</td>\n",
       "    </tr>\n",
       "    <tr>\n",
       "      <th>65</th>\n",
       "      <td>https://www.zomato.com/bangalore/kabab-magic-b...</td>\n",
       "      <td>31, Opposite Vijaya College, RV Road, Basavana...</td>\n",
       "      <td>Kabab Magic</td>\n",
       "      <td>Yes</td>\n",
       "      <td>No</td>\n",
       "      <td>4.1</td>\n",
       "      <td>1720</td>\n",
       "      <td>080 26570381</td>\n",
       "      <td>Basavanagudi</td>\n",
       "      <td>Quick Bites</td>\n",
       "      <td>Grape Juice, Chicken Grill, Chicken Tikka Roll...</td>\n",
       "      <td>North Indian, Kebab, Chinese, Fast Food</td>\n",
       "      <td>400</td>\n",
       "      <td>[('Rated 4.0', 'RATED\\n  BEST SHAWARMA EVER!\\n...</td>\n",
       "      <td>[]</td>\n",
       "      <td>Delivery</td>\n",
       "      <td>Banashankari</td>\n",
       "    </tr>\n",
       "    <tr>\n",
       "      <th>71</th>\n",
       "      <td>https://www.zomato.com/bangalore/the-biryani-c...</td>\n",
       "      <td>476, 2nd Floor, 9th Cross, Avalahalli BDA Park...</td>\n",
       "      <td>The Biryani Cafe</td>\n",
       "      <td>No</td>\n",
       "      <td>No</td>\n",
       "      <td>4.1</td>\n",
       "      <td>520</td>\n",
       "      <td>+91 7010846043</td>\n",
       "      <td>Banashankari</td>\n",
       "      <td>Quick Bites</td>\n",
       "      <td>Vegetable Biryani, Ginger Chicken, Chicken Bir...</td>\n",
       "      <td>Biryani, Chinese, Kebab</td>\n",
       "      <td>300</td>\n",
       "      <td>[('Rated 5.0', 'RATED\\n  People who are always...</td>\n",
       "      <td>[]</td>\n",
       "      <td>Delivery</td>\n",
       "      <td>Banashankari</td>\n",
       "    </tr>\n",
       "    <tr>\n",
       "      <th>76</th>\n",
       "      <td>https://www.zomato.com/bangalore/sri-guru-kott...</td>\n",
       "      <td>49/1, Subbaraoshetty Road, Netkallappa Circle,...</td>\n",
       "      <td>Sri Guru Kottureshwara Davangere Benne Dosa</td>\n",
       "      <td>Yes</td>\n",
       "      <td>No</td>\n",
       "      <td>4.1</td>\n",
       "      <td>558</td>\n",
       "      <td>+91 9448305384\\r\\n+91 9060079480</td>\n",
       "      <td>Basavanagudi</td>\n",
       "      <td>Quick Bites</td>\n",
       "      <td>Benne Dosa, Mirchi Bajji, Filter Coffee, Poha,...</td>\n",
       "      <td>South Indian</td>\n",
       "      <td>150</td>\n",
       "      <td>[('Rated 4.0', 'RATED\\n  My go-to benne dosa p...</td>\n",
       "      <td>['Benne Dose', 'Benne Kali Dose', 'Open Dose',...</td>\n",
       "      <td>Delivery</td>\n",
       "      <td>Banashankari</td>\n",
       "    </tr>\n",
       "  </tbody>\n",
       "</table>\n",
       "</div>"
      ],
      "text/plain": [
       "                                                  url  \\\n",
       "51  https://www.zomato.com/bangalore/shree-cool-po...   \n",
       "52  https://www.zomato.com/bangalore/corner-house-...   \n",
       "65  https://www.zomato.com/bangalore/kabab-magic-b...   \n",
       "71  https://www.zomato.com/bangalore/the-biryani-c...   \n",
       "76  https://www.zomato.com/bangalore/sri-guru-kott...   \n",
       "\n",
       "                                              address  \\\n",
       "51  1514, 4th Cross, 7th Main, RPC layout, 2nd Sta...   \n",
       "52  808/6-1, 24th A Cross, K.R Road, 2nd Stage, Ba...   \n",
       "65  31, Opposite Vijaya College, RV Road, Basavana...   \n",
       "71  476, 2nd Floor, 9th Cross, Avalahalli BDA Park...   \n",
       "76  49/1, Subbaraoshetty Road, Netkallappa Circle,...   \n",
       "\n",
       "                                           name online_order book_table  rate  \\\n",
       "51                             Shree Cool Point          Yes         No   4.1   \n",
       "52                       Corner House Ice Cream           No         No   4.3   \n",
       "65                                  Kabab Magic          Yes         No   4.1   \n",
       "71                             The Biryani Cafe           No         No   4.1   \n",
       "76  Sri Guru Kottureshwara Davangere Benne Dosa          Yes         No   4.1   \n",
       "\n",
       "    votes                             phone      location       rest_type  \\\n",
       "51     28                    +91 9900617124   Vijay Nagar     Quick Bites   \n",
       "52    345    080 26713965\\r\\n+91 9845444155  Banashankari  Dessert Parlor   \n",
       "65   1720                      080 26570381  Basavanagudi     Quick Bites   \n",
       "71    520                    +91 7010846043  Banashankari     Quick Bites   \n",
       "76    558  +91 9448305384\\r\\n+91 9060079480  Basavanagudi     Quick Bites   \n",
       "\n",
       "                                           dish_liked  \\\n",
       "51                                                NaN   \n",
       "52  Hot Chocolate Fudge, Vanilla Ice Cream, Fudge ...   \n",
       "65  Grape Juice, Chicken Grill, Chicken Tikka Roll...   \n",
       "71  Vegetable Biryani, Ginger Chicken, Chicken Bir...   \n",
       "76  Benne Dosa, Mirchi Bajji, Filter Coffee, Poha,...   \n",
       "\n",
       "                                   cuisines  approx_cost(for two people)  \\\n",
       "51        Fast Food, Street Food, Beverages                          150   \n",
       "52                      Ice Cream, Desserts                          400   \n",
       "65  North Indian, Kebab, Chinese, Fast Food                          400   \n",
       "71                  Biryani, Chinese, Kebab                          300   \n",
       "76                             South Indian                          150   \n",
       "\n",
       "                                         reviews_list  \\\n",
       "51  [('Rated 5.0', 'RATED\\n  Who would say no to s...   \n",
       "52  [('Rated 3.0', \"RATED\\n  Always a fan of corne...   \n",
       "65  [('Rated 4.0', 'RATED\\n  BEST SHAWARMA EVER!\\n...   \n",
       "71  [('Rated 5.0', 'RATED\\n  People who are always...   \n",
       "76  [('Rated 4.0', 'RATED\\n  My go-to benne dosa p...   \n",
       "\n",
       "                                            menu_item listed_in(type)  \\\n",
       "51  ['Vegetable Sandwich', 'Vegetable Sandwich wit...        Delivery   \n",
       "52                                                 []        Delivery   \n",
       "65                                                 []        Delivery   \n",
       "71                                                 []        Delivery   \n",
       "76  ['Benne Dose', 'Benne Kali Dose', 'Open Dose',...        Delivery   \n",
       "\n",
       "   listed_in(city)  \n",
       "51    Banashankari  \n",
       "52    Banashankari  \n",
       "65    Banashankari  \n",
       "71    Banashankari  \n",
       "76    Banashankari  "
      ]
     },
     "execution_count": 135,
     "metadata": {},
     "output_type": "execute_result"
    }
   ],
   "source": [
    "df_new=df[(df['rate']>4) & (df['approx_cost(for two people)']<=400)]\n",
    "df_new.head()"
   ]
  },
  {
   "cell_type": "code",
   "execution_count": 137,
   "id": "88ea0d13",
   "metadata": {},
   "outputs": [],
   "source": [
    "# Best budget hotel in any location"
   ]
  },
  {
   "cell_type": "code",
   "execution_count": 139,
   "id": "09eeac0a",
   "metadata": {},
   "outputs": [],
   "source": [
    "def return_budget(location,restaurant):\n",
    "    budget=df[(df['approx_cost(for two people)']<=400) & (df['location']==location) & \n",
    "                     (df['rate']>4) & (df['rest_type']==restaurant)]\n",
    "    return(budget['name'].unique())"
   ]
  },
  {
   "cell_type": "code",
   "execution_count": 142,
   "id": "181507e6",
   "metadata": {},
   "outputs": [
    {
     "data": {
      "text/plain": [
       "array(['Swadista Aahar', 'Litti Twist', 'The Shawarma Shop', 'Gorbandh',\n",
       "       'Yum In My Tum', 'Chaatimes', \"Muthashy's\", 'Swad Punjab Da',\n",
       "       \"Domino's Pizza\", 'Roti Wala', 'Andhra Kitchen'], dtype=object)"
      ]
     },
     "execution_count": 142,
     "metadata": {},
     "output_type": "execute_result"
    }
   ],
   "source": [
    "return_budget('BTM',\"Quick Bites\")"
   ]
  },
  {
   "cell_type": "code",
   "execution_count": 148,
   "id": "9396ce96",
   "metadata": {},
   "outputs": [],
   "source": [
    "#Plot major food areas in banglore"
   ]
  },
  {
   "cell_type": "code",
   "execution_count": 144,
   "id": "f7a77f0d",
   "metadata": {},
   "outputs": [
    {
     "name": "stderr",
     "output_type": "stream",
     "text": [
      "C:\\Users\\Dell\\.conda\\envs\\rstudio\\lib\\site-packages\\seaborn\\_decorators.py:43: FutureWarning: Pass the following variables as keyword args: x, y. From version 0.12, the only valid positional argument will be `data`, and passing other arguments without an explicit keyword will result in an error or misinterpretation.\n",
      "  FutureWarning\n"
     ]
    },
    {
     "data": {
      "text/plain": [
       "<AxesSubplot:xlabel='location'>"
      ]
     },
     "execution_count": 144,
     "metadata": {},
     "output_type": "execute_result"
    },
    {
     "data": {
      "image/png": "[encoded data removed]",
      "text/plain": [
       "<Figure size 720x504 with 1 Axes>"
      ]
     },
     "metadata": {
      "needs_background": "light"
     },
     "output_type": "display_data"
    }
   ],
   "source": [
    "plt.figure(figsize=(10,7))\n",
    "Restaurant_locations=df['location'].value_counts()[:20]\n",
    "sns.barplot(Restaurant_locations,Restaurant_locations.index)"
   ]
  },
  {
   "cell_type": "code",
   "execution_count": null,
   "id": "b56d073a",
   "metadata": {},
   "outputs": [],
   "source": []
  }
 ],
 "metadata": {
  "kernelspec": {
   "display_name": "Python 3 (ipykernel)",
   "language": "python",
   "name": "python3"
  },
  "language_info": {
   "codemirror_mode": {
    "name": "ipython",
    "version": 3
   },
   "file_extension": ".py",
   "mimetype": "text/x-python",
   "name": "python",
   "nbconvert_exporter": "python",
   "pygments_lexer": "ipython3",
   "version": "3.7.1"
  }
 },
 "nbformat": 4,
 "nbformat_minor": 5
}
